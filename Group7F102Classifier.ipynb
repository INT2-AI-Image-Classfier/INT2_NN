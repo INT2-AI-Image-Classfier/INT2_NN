{
  "cells": [
    {
      "cell_type": "code",
      "source": [
        "# Very Helpful link\n",
        "# https://pytorch.org/tutorials/beginner/deep_learning_60min_blitz.html\n",
        "\n",
        "# Makes File Handling Easier\n",
        "from collections import OrderedDict\n",
        "import math\n",
        "import os\n",
        "import shutil\n",
        "import time\n",
        "import gc\n",
        "\n",
        "# PyTorch model and training necessities\n",
        "import torch\n",
        "import torch.nn as nn\n",
        "import torch.nn.functional as F\n",
        "import torch.optim as optim\n",
        "import torch.utils.data\n",
        "\n",
        "# from torch.utils.data import DataLoader\n",
        "\n",
        "# Image datasets and image manipulation\n",
        "import torchvision\n",
        "from torch.utils.data import Dataset\n",
        "from torchvision import datasets\n",
        "from torchvision.io import read_image\n",
        "import torchvision.transforms as transforms\n",
        "from PIL import Image\n",
        "import pandas as pd\n",
        "\n",
        "# Image display\n",
        "import matplotlib.pyplot as plt\n",
        "import numpy as np\n",
        "\n",
        "# Unpacker for .mat files\n",
        "import scipy.io as scio"
      ],
      "metadata": {
        "id": "0DDXoXIcKpO1"
      },
      "execution_count": 1,
      "outputs": []
    },
    {
      "cell_type": "code",
      "source": [
        "torch.cuda.empty_cache()"
      ],
      "metadata": {
        "id": "sXUD1zaEOLuv"
      },
      "execution_count": 2,
      "outputs": []
    },
    {
      "cell_type": "code",
      "source": [
        "# Hyper Parameters\n",
        "BATCH_SIZE = 16\n",
        "NUM_OF_CLASSES = 102\n",
        "\n",
        "# Optimizing\n",
        "LEARN_RATE = 0.001\n",
        "WEIGHT_DECAY = 0.0001\n",
        "\n",
        "# Training\n",
        "MAX_TRAIN_TIME = 60 * 60 * 6\n",
        "NUM_EPOCHS = 100\n",
        "CHANCES_TO_IMPROVE = 5\n",
        "\n",
        "CHECKPOINT_PERIOD = 100\n",
        "\n",
        "# Transforms\n",
        "CROP_SIZE = 500\n",
        "RESIZE_SIZE = 128"
      ],
      "metadata": {
        "id": "_9dWAuDMKtjR"
      },
      "execution_count": 3,
      "outputs": []
    },
    {
      "cell_type": "code",
      "source": [
        "# Create train, valid and test directories to sort dataset into.\n",
        "def makePartitionDirs():\n",
        "    for i in range(1, 103):\n",
        "        os.makedirs(\"data/102flowers/train/\" + str(i), exist_ok=True)\n",
        "        os.makedirs(\"data/102flowers/test/\" + str(i), exist_ok=True)\n",
        "        os.makedirs(\"data/102flowers/valid/\" + str(i), exist_ok=True)\n",
        "\n",
        "# # Now obsolete manual partioner for Flowers102 dataset.\n",
        "# Distribute dataset into train, valid and test directories according to setid.mat specifications.\n",
        "def partitionData(imageLabels, setid, sortedPath, dataPath):\n",
        "    for i in range(len(imageLabels[\"labels\"][0])):\n",
        "        filename = \"image_\" + str(i + 1).zfill(5) + \".jpg\"\n",
        "        if i + 1 in setid[\"trnid\"][0]:\n",
        "            targetFolder = os.path.join(\n",
        "                sortedPath, \"train\", str(imageLabels[\"labels\"][0][i])\n",
        "            )\n",
        "        elif i + 1 in setid[\"valid\"][0]:\n",
        "            targetFolder = os.path.join(\n",
        "                sortedPath, \"valid\", str(imageLabels[\"labels\"][0][i])\n",
        "            )\n",
        "        else:\n",
        "            targetFolder = os.path.join(\n",
        "                sortedPath, \"test\", str(imageLabels[\"labels\"][0][i])\n",
        "            )\n",
        "        shutil.copy(\n",
        "            os.path.join(dataPath, filename), os.path.join(targetFolder, filename)\n",
        "        )"
      ],
      "metadata": {
        "id": "CDKvIC_RKwAp"
      },
      "execution_count": 4,
      "outputs": []
    },
    {
      "cell_type": "code",
      "source": [
        "# Commonly-used normalisation values across numerous NNs like Resnet18 and ImageNet\n",
        "mean = [0.485, 0.456, 0.406]\n",
        "std = [0.229, 0.224, 0.225]\n",
        "trainTransforms = transforms.Compose(\n",
        "    [\n",
        "        transforms.CenterCrop((CROP_SIZE, CROP_SIZE)),\n",
        "        transforms.Resize((RESIZE_SIZE, RESIZE_SIZE)),\n",
        "        # transforms.RandomRotation([-90, 180]),\n",
        "        transforms.RandomRotation(degrees=90),\n",
        "        transforms.RandomAutocontrast(),\n",
        "        transforms.RandomHorizontalFlip(),\n",
        "        transforms.RandomVerticalFlip(),\n",
        "        transforms.RandomPerspective(distortion_scale=0.2, p=0.5),\n",
        "        transforms.ToTensor(),\n",
        "        transforms.Normalize(mean, std),\n",
        "    ]\n",
        ")\n",
        "testTransforms = validTransforms = transforms.Compose(\n",
        "    [\n",
        "        transforms.Resize((RESIZE_SIZE, RESIZE_SIZE)),\n",
        "        transforms.ToTensor(),\n",
        "        transforms.Normalize(mean, std),\n",
        "    ]\n",
        ")"
      ],
      "metadata": {
        "id": "OHqIjZ8PKzLZ"
      },
      "execution_count": 5,
      "outputs": []
    },
    {
      "cell_type": "code",
      "source": [
        "dataPath = \"data/102flowers/jpg\"\n",
        "sortedPath = \"data/102flowers\"\n",
        "trainingData = torchvision.datasets.Flowers102(\"data\", \"train\", trainTransforms, download=True)\n",
        "validationData = torchvision.datasets.Flowers102(\"data\", \"val\", validTransforms, download=True)\n",
        "testingData = torchvision.datasets.Flowers102(\"data\", \"test\", testTransforms, download=True)\n",
        "# setid = scio.loadmat(f\"data/setid.mat\")\n",
        "# imageLabels: dict = scio.loadmat(f\"data/imagelabels.mat\")\n",
        "\n",
        "# Data loaders for use as input.\n",
        "trainDataLoader = torch.utils.data.DataLoader(\n",
        "    trainingData, batch_size=BATCH_SIZE, shuffle=True\n",
        ")\n",
        "validDataLoader = torch.utils.data.DataLoader(\n",
        "    validationData, batch_size=BATCH_SIZE, shuffle=False\n",
        ")\n",
        "testDataLoader = torch.utils.data.DataLoader(\n",
        "    testingData, batch_size=BATCH_SIZE, shuffle=False\n",
        ")"
      ],
      "metadata": {
        "colab": {
          "base_uri": "https://localhost:8080/"
        },
        "id": "T6dciGFEK1Eh",
        "outputId": "1a5b20ba-6193-42f6-f3b6-1b8cb06bc2f7"
      },
      "execution_count": 6,
      "outputs": [
        {
          "output_type": "stream",
          "name": "stdout",
          "text": [
            "Downloading https://thor.robots.ox.ac.uk/datasets/flowers-102/102flowers.tgz to data/flowers-102/102flowers.tgz\n"
          ]
        },
        {
          "output_type": "stream",
          "name": "stderr",
          "text": [
            "100%|██████████| 344862509/344862509 [00:10<00:00, 31596946.68it/s]\n"
          ]
        },
        {
          "output_type": "stream",
          "name": "stdout",
          "text": [
            "Extracting data/flowers-102/102flowers.tgz to data/flowers-102\n",
            "Downloading https://thor.robots.ox.ac.uk/datasets/flowers-102/imagelabels.mat to data/flowers-102/imagelabels.mat\n"
          ]
        },
        {
          "output_type": "stream",
          "name": "stderr",
          "text": [
            "100%|██████████| 502/502 [00:00<00:00, 474434.57it/s]\n"
          ]
        },
        {
          "output_type": "stream",
          "name": "stdout",
          "text": [
            "Downloading https://thor.robots.ox.ac.uk/datasets/flowers-102/setid.mat to data/flowers-102/setid.mat\n"
          ]
        },
        {
          "output_type": "stream",
          "name": "stderr",
          "text": [
            "100%|██████████| 14989/14989 [00:00<00:00, 13607883.69it/s]\n"
          ]
        }
      ]
    },
    {
      "cell_type": "code",
      "source": [
        "def showImage(image):\n",
        "    npImage = image.numpy() / 2 + 0.5\n",
        "    plt.imshow(np.transpose(npImage, (1, 2, 0)))\n",
        "    plt.show()"
      ],
      "metadata": {
        "id": "DBfoL6ONLJv2"
      },
      "execution_count": 7,
      "outputs": []
    },
    {
      "cell_type": "code",
      "source": [
        "class ConvNet(nn.Module):\n",
        "    def __init__(self):\n",
        "        super(ConvNet, self).__init__()\n",
        "        self.tensorMulti = 128 * 32**2\n",
        "\n",
        "        self.features = nn.Sequential(\n",
        "            nn.Conv2d(3,32,kernel_size=3,padding=1),\n",
        "            nn.ReLU(),\n",
        "            nn.Conv2d(32,64,kernel_size=3,stride=1,padding=1),\n",
        "            nn.ReLU(),\n",
        "            nn.MaxPool2d(2,2),\n",
        "\n",
        "            nn.Conv2d(64,128,kernel_size=3,stride=1,padding=1),\n",
        "            nn.ReLU(),\n",
        "            nn.Conv2d(128,128,kernel_size=3,stride=1,padding=1),\n",
        "            nn.ReLU(),\n",
        "            nn.MaxPool2d(2,2),\n",
        "\n",
        "            # nn.Conv2d(128,256,kernel_size=3,stride=1,padding=1),\n",
        "            # nn.ReLU(),\n",
        "            # nn.Conv2d(256,256,kernel_size=3,stride=1,padding=1),\n",
        "            # nn.ReLU(),\n",
        "            # # nn.Dropout2d(p=0.5),\n",
        "            # nn.MaxPool2d(2,2)\n",
        "        )\n",
        "\n",
        "        self.classifier = nn.Sequential(\n",
        "            nn.Flatten(),\n",
        "            nn.Linear(self.tensorMulti,1024),\n",
        "            # nn.ReLU(),\n",
        "            # nn.Linear(1024,512),\n",
        "            nn.ReLU(),\n",
        "            nn.Linear(1024,102)\n",
        "        )\n",
        "\n",
        "    def forward(self, input_img):\n",
        "        output = self.features(input_img)\n",
        "        # output = input_img\n",
        "        # for layer in self.features:\n",
        "        #   output = layer(output)\n",
        "        #   print(output.shape)\n",
        "        # output = output.view(-1, self.tensorMulti)\n",
        "        # print(output.shape)\n",
        "        output = self.classifier(output)\n",
        "        return output\n",
        "\n",
        "# Instantiate a neural network model\n",
        "model = ConvNet()\n",
        "\n",
        "# Define your execution device\n",
        "device = torch.device(\"cuda\" if torch.cuda.is_available() else \"cpu\")\n",
        "print(\"The model will be running on\", device, \"device\")\n",
        "\n",
        "model = model.to(device)"
      ],
      "metadata": {
        "colab": {
          "base_uri": "https://localhost:8080/"
        },
        "id": "xmWinvEbLYaY",
        "outputId": "331833e1-0432-49da-de6d-4715f9b7d9f1"
      },
      "execution_count": 8,
      "outputs": [
        {
          "output_type": "stream",
          "name": "stdout",
          "text": [
            "The model will be running on cpu device\n"
          ]
        }
      ]
    },
    {
      "cell_type": "code",
      "source": [
        "# Define the loss function with Classification Cross-Entropy loss and an optimizer with SGD optimizer\n",
        "lossFunction  = nn.CrossEntropyLoss()\n",
        "# Optimizer\n",
        "optimizer = torch.optim.SGD(model.parameters(), lr=LEARN_RATE, weight_decay=WEIGHT_DECAY)"
      ],
      "metadata": {
        "id": "dQWwiL0vLcH5"
      },
      "execution_count": 9,
      "outputs": []
    },
    {
      "cell_type": "code",
      "source": [
        "# Function to save the model\n",
        "def saveModel(path = \"./firstF102Model.pth\"):\n",
        "    torch.save(model.state_dict(), path)"
      ],
      "metadata": {
        "id": "aVVOlKruLwNW"
      },
      "execution_count": 10,
      "outputs": []
    },
    {
      "cell_type": "code",
      "source": [
        "# Function to test the model with the validation dataset and print the accuracy for the validation images\n",
        "def trainingAccuracy(device):\n",
        "    model.eval()\n",
        "    accuracy = 0.0\n",
        "    total = 0.0\n",
        "\n",
        "    with torch.no_grad():\n",
        "        for data in trainDataLoader:\n",
        "            images, labels = data\n",
        "            images, labels = images.to(device), labels.to(device)\n",
        "            # run the model on the train set to predict labels\n",
        "            outputs = model(images)\n",
        "            # the label with the highest value will be predicted\n",
        "            _, predicted = torch.max(outputs.data, 1)\n",
        "            total += labels.size(0)\n",
        "            accuracy += (predicted == labels).sum().item()\n",
        "\n",
        "    # compute the accuracy over all test images\n",
        "    accuracy = 100 * accuracy / total\n",
        "    return accuracy\n"
      ],
      "metadata": {
        "id": "2Fn5tuozLzrb"
      },
      "execution_count": 11,
      "outputs": []
    },
    {
      "cell_type": "code",
      "source": [
        "def validateAccuracy(device):\n",
        "    model.eval()\n",
        "    accuracy = 0.0\n",
        "    total = 0.0\n",
        "\n",
        "    with torch.no_grad():\n",
        "        for data in validDataLoader:\n",
        "            images, labels = data\n",
        "            images, labels = images.to(device), labels.to(device)\n",
        "            # run the model on the test set to predict labels\n",
        "            outputs = model(images)\n",
        "            # the label with the highest value will be predicted\n",
        "            _, predicted = torch.max(outputs.data, 1)\n",
        "            total += labels.size(0)\n",
        "            accuracy += (predicted == labels).sum().item()\n",
        "\n",
        "    # compute the accuracy over all test images\n",
        "    accuracy = 100 * accuracy / total\n",
        "    return accuracy"
      ],
      "metadata": {
        "id": "BF6mto4zbRkw"
      },
      "execution_count": 12,
      "outputs": []
    },
    {
      "cell_type": "code",
      "execution_count": 13,
      "metadata": {
        "id": "qj6g5l9hJnMB"
      },
      "outputs": [],
      "source": [
        "def plotAccuracies(trainAccuracies, validAccuracies):\n",
        "    epochs = len(trainAccuracies)\n",
        "    fig, ax1 = plt.subplots()\n",
        "    ax2 = ax1.twinx()\n",
        "    ax1.plot(range(epochs), trainAccuracies, label='Training accuracy')\n",
        "    ax1.plot(range(epochs), validAccuracies, label='Validation accuracy')\n",
        "    ax1.set_title('Training and Validation Accuracies against Loss')\n",
        "    ax1.set_xlabel('Epoch')\n",
        "    ax1.set_ylabel('Accuracy')\n",
        "    ax1.legend()\n",
        "\n",
        "device = \"\"\n",
        "\n",
        "# Training function. We simply have to loop over our data iterator and feed the inputs to the network and optimize.\n",
        "def train(device, save_model_path, bestAccuracy = 0.0):\n",
        "    startTime = time.time()\n",
        "    lastCheckpointTime = startTime\n",
        "    trainAccuracies = []\n",
        "    validAccuracies = []\n",
        "    # Convert model parameters and buffers to CPU or Cuda\n",
        "    # model.to(device) # Regretfully AMD GPUs are unsupported for PyTorch models.\n",
        "\n",
        "    runningAccuracy = 0.0\n",
        "    fails_to_imprv = 0\n",
        "\n",
        "    for epoch in range(NUM_EPOCHS):  # loop over the dataset multiple times\n",
        "        # Evaluation and Training of the Dataset\n",
        "        model.train()\n",
        "        runningLoss = 0.0\n",
        "\n",
        "        print(\"\\n##############################\")\n",
        "        for i, (images, labels) in enumerate(trainDataLoader, 0):\n",
        "            # Get the inputs\n",
        "            images, labels = images.to(device), labels.to(device)\n",
        "            # Zero the parameter gradients\n",
        "            optimizer.zero_grad()\n",
        "            # Predict classes using images from the training set\n",
        "            outputs = model(images)\n",
        "            # Compute the loss based on model output and real labels\n",
        "            loss = lossFunction(outputs.to(device), labels)\n",
        "            # Back-propagate the loss\n",
        "            loss.backward()\n",
        "            # adjust parameters based on the calculated gradients\n",
        "            optimizer.step()\n",
        "            runningLoss += loss.item()  # extract the loss value\n",
        "            if i % BATCH_SIZE == BATCH_SIZE - 1:\n",
        "                # print twice per epoch\n",
        "                print(\"[%d, %5d] loss: %.3f\" % (epoch + 1, i + 1, runningLoss / BATCH_SIZE))\n",
        "                # zero the loss\n",
        "                runningLoss = 0.0\n",
        "\n",
        "        # Compute and print the average accuracy fo this epoch when tested over all validation images\n",
        "        trainAccuracy = trainingAccuracy(device)\n",
        "        trainAccuracies.append(trainAccuracy)\n",
        "        validAccuracy = validateAccuracy(device)\n",
        "        validAccuracies.append(validAccuracy)\n",
        "        plotAccuracies(trainAccuracies, validAccuracies)\n",
        "        print(\n",
        "            \"For epoch\",\n",
        "            epoch + 1,\n",
        "            \"the training accuracy over the whole training set is %.2f %%\" % (trainAccuracy),\n",
        "            \"\\nthe validation accuracy over the whole validation set is %.2f %%\" % (validAccuracy),\n",
        "        )\n",
        "        elapsedTime = time.time() - lastCheckpointTime\n",
        "        if elapsedTime >= CHECKPOINT_PERIOD and validAccuracy > bestAccuracy:\n",
        "            saveModel(save_model_path)\n",
        "            lastCheckpointTime = time.time()\n",
        "\n",
        "        # Check if the maximum training time has elapsed\n",
        "        elapsedTime  = time.time() - startTime\n",
        "        if elapsedTime  >= MAX_TRAIN_TIME:\n",
        "            if validAccuracy > bestAccuracy:\n",
        "                saveModel(save_model_path)\n",
        "            break\n",
        "\n",
        "        if validAccuracy > runningAccuracy:\n",
        "            print(\"Improvement made: %.2f%% better.\" % (validAccuracy - runningAccuracy))\n",
        "            runningAccuracy = validAccuracy\n",
        "            fails_to_imprv = 0\n",
        "        else:\n",
        "            fails_to_imprv += 1\n",
        "            print(\"Failed to improve: %d, %.2f%% worse.\" % (fails_to_imprv, (runningAccuracy - validAccuracy)))\n",
        "            if fails_to_imprv >= CHANCES_TO_IMPROVE:\n",
        "              print(\"Failed to improve %d consecutive times.\" % fails_to_imprv)\n",
        "              break\n",
        "\n",
        "        # Check if the maximum training time has elapsed\n",
        "        elapsedTime  = time.time() - startTime\n",
        "        if (elapsedTime  >= MAX_TRAIN_TIME and validAccuracy > bestAccuracy) or (fails_to_imprv > CHANCES_TO_IMPROVE):\n",
        "            saveModel(save_model_path)\n",
        "            break\n",
        "\n",
        "        # we want to save the model if the accuracy is the best\n",
        "        if validAccuracy > bestAccuracy:\n",
        "            saveModel(save_model_path)\n",
        "            bestAccuracy = validAccuracy\n",
        "\n",
        "# Function to test the model with a batch of images and show the labels predictions\n",
        "def testBatch(device):\n",
        "    # get batch of images from the test DataLoader\n",
        "    dataIter = iter(testDataLoader)\n",
        "    images, labels = next(dataIter)\n",
        "    images, labels = images.to(device), labels.to(device)\n",
        "    showImage(torchvision.utils.make_grid(images))\n",
        "    print(\n",
        "        \"Real classes: \",\n",
        "        \" \".join(f\"{testClassIndexes[int(labels[j])]}\" for j in range(BATCH_SIZE)),\n",
        "    )\n",
        "    # Let's see what if the model identifiers the  labels of those example\n",
        "    outputs = model(images)\n",
        "\n",
        "    # get probabilities for all 102 labels. The highest (max) probability should align with correct label\n",
        "    _, predicted = torch.max(outputs, 1)\n",
        "\n",
        "    # show the predicted labels on the screen with the real ones for comparison\n",
        "    print(\n",
        "        \"Predicted: \",\n",
        "        \" \".join(f\"{testClassIndexes[int(predicted[j])]}\" for j in range(BATCH_SIZE)),\n",
        "    )\n",
        "\n",
        "# Function to validate the model with a batch of images from the validation set.\n",
        "def validBatch(device):\n",
        "    model.eval()\n",
        "    dataIter = iter(validDataLoader)\n",
        "    images, labels = next(dataIter)\n",
        "    images, labels = images.to(device), labels.to(device)\n",
        "    showImage(torchvision.utils.make_grid(images))\n",
        "    print(\n",
        "        \"Real classes: \",\n",
        "        \" \".join(f\"{validClassIndexes[int(labels[j])]}\" for j in range(BATCH_SIZE)),\n",
        "    )\n",
        "    outputs = model(images)\n",
        "    _, predicted = torch.max(outputs, 1)\n",
        "    print(\n",
        "        \"Predicted: \",\n",
        "        \" \".join(f\"{validClassIndexes[int(predicted[j])]}\" for j in range(BATCH_SIZE)),\n",
        "    )\n",
        "\n",
        "def trainOurModel(device, save_model_path = \"firstF102Model.pth\"):\n",
        "    # best_accurracy = 0.0\n",
        "    # if os.path.isfile(model_path):\n",
        "    #     best_model = ConvNet()\n",
        "    #     # best_optimizer = torch.optim.SGD(best_model.parameters(), lr=LEARN_RATE, weight_decay=WEIGHT_DECAY)\n",
        "    #     best_model.load_state_dict(torch.load(model_path))\n",
        "    #     best_accurracy = validateAccuracy(best_model)\n",
        "\n",
        "    # Define your execution device\n",
        "    device = torch.device(\"cuda\" if torch.cuda.is_available() else \"cpu\")\n",
        "    print(\"The model will be running on\", device, \"device\")\n",
        "\n",
        "    # Let's build our model\n",
        "    train(device, save_model_path, 0.0)\n",
        "    print(\"Finished Training\")\n",
        "\n",
        "    # Test which classes performed well\n",
        "    validateAccuracy(device)\n",
        "\n",
        "    # Let's load the model we just created and test the accuracy per label\n",
        "    # Optimizer\n",
        "    model.load_state_dict(torch.load(save_model_path))\n",
        "\n",
        "    # Test with batch of images\n",
        "    validBatch(device)"
      ]
    },
    {
      "cell_type": "code",
      "source": [
        "# Commented out IPython magic to ensure Python compatibility.\n",
        "# Function to test what classes performed well\n",
        "def testClasses(device):\n",
        "    model.eval()\n",
        "    class_correct = list(0.0 for i in range(NUM_OF_CLASSES))\n",
        "    class_total = list(0.0 for i in range(NUM_OF_CLASSES))\n",
        "    with torch.no_grad():\n",
        "        for data in testDataLoader:\n",
        "            images, labels = data\n",
        "            images, labels = images.to(device), labels.to(device)\n",
        "            outputs = model(images)\n",
        "            _, predicted = torch.max(outputs, 1)\n",
        "            c = (predicted == labels).squeeze()\n",
        "            for i in range(BATCH_SIZE):\n",
        "                label = labels[i]\n",
        "                class_correct[label] += c[i].item()\n",
        "                class_total[label] += 1\n",
        "\n",
        "    for i in range(NUM_OF_CLASSES):\n",
        "        print(\n",
        "            \"Accuracy of %5s : %2d %%\"\n",
        "            % (testClassIndexes[i], 100 * class_correct[i] / class_total[i])\n",
        "        )"
      ],
      "metadata": {
        "id": "AFomEndMJxvp"
      },
      "execution_count": 14,
      "outputs": []
    },
    {
      "cell_type": "code",
      "source": [
        "# Begin the training\n",
        "trainOurModel(\"firstF102Model.pth\")\n",
        "# testClasses()"
      ],
      "metadata": {
        "colab": {
          "base_uri": "https://localhost:8080/"
        },
        "id": "YYKJv7r7Js_d",
        "outputId": "79abadd5-9618-48a0-ab3c-307cde15110d"
      },
      "execution_count": null,
      "outputs": [
        {
          "output_type": "stream",
          "name": "stdout",
          "text": [
            "The model will be running on cpu device\n",
            "\n",
            "##############################\n",
            "[1,    16] loss: 4.627\n",
            "[1,    32] loss: 4.624\n",
            "[1,    48] loss: 4.625\n",
            "[1,    64] loss: 4.627\n"
          ]
        }
      ]
    },
    {
      "cell_type": "code",
      "source": [
        "gc.collect()"
      ],
      "metadata": {
        "id": "2Vk-v_SfOjwb"
      },
      "execution_count": null,
      "outputs": []
    }
  ],
  "metadata": {
    "language_info": {
      "name": "python"
    },
    "orig_nbformat": 4,
    "colab": {
      "provenance": [],
      "gpuType": "T4"
    },
    "kernelspec": {
      "name": "python3",
      "display_name": "Python 3"
    },
    "gpuClass": "standard"
  },
  "nbformat": 4,
  "nbformat_minor": 0
}