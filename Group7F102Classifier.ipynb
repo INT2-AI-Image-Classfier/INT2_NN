{
  "cells": [
    {
      "cell_type": "markdown",
      "metadata": {
        "id": "view-in-github",
        "colab_type": "text"
      },
      "source": [
        "<a href=\"https://colab.research.google.com/github/Zaster-TK/INT2_NN/blob/main/Group7F102Classifier.ipynb\" target=\"_parent\"><img src=\"https://colab.research.google.com/assets/colab-badge.svg\" alt=\"Open In Colab\"/></a>"
      ]
    },
    {
      "cell_type": "code",
      "execution_count": 1,
      "metadata": {
        "id": "uoF34amsHiUM"
      },
      "outputs": [],
      "source": [
        "# Very Helpful link\n",
        "# https://pytorch.org/tutorials/beginner/deep_learning_60min_blitz.html\n"
      ]
    },
    {
      "cell_type": "code",
      "execution_count": 2,
      "metadata": {
        "id": "vOFW-V8bHiUS"
      },
      "outputs": [],
      "source": [
        "# Makes File Handling Easier\n",
        "from collections import OrderedDict\n",
        "import math\n",
        "import os\n",
        "import shutil\n",
        "import time\n",
        "\n",
        "# PyTorch model and training necessities\n",
        "import torch\n",
        "import torch.nn as nn\n",
        "import torch.nn.functional as F\n",
        "import torch.optim as optim\n",
        "import torch.utils.data\n",
        "\n",
        "# from torch.utils.data import DataLoader\n",
        "\n",
        "# Image datasets and image manipulation\n",
        "import torchvision\n",
        "from torch.utils.data import Dataset\n",
        "from torchvision import datasets\n",
        "from torchvision.io import read_image\n",
        "import torchvision.transforms as transforms\n",
        "from PIL import Image\n",
        "import pandas as pd\n",
        "\n",
        "# Image display\n",
        "import matplotlib.pyplot as plt\n",
        "import numpy as np\n",
        "\n",
        "# Unpacker for .mat files\n",
        "import scipy.io as scio\n"
      ]
    },
    {
      "cell_type": "code",
      "execution_count": 3,
      "metadata": {
        "id": "RM1PI5TCHiUc"
      },
      "outputs": [],
      "source": [
        "# Hyper Parameters\n",
        "BATCH_SIZE = 16\n",
        "NUM_OF_CLASSES = 102\n",
        "\n",
        "# Optimizing\n",
        "LEARN_RATE = 0.001\n",
        "WEIGHT_DECAY = 0.0001\n",
        "\n",
        "# Training\n",
        "MAX_TRAIN_TIME = 60 * 60 * 6\n",
        "NUM_EPOCHS = 100\n",
        "CHANCES_TO_IMPROVE = 5\n",
        "\n",
        "CHECKPOINT_PERIOD = 100\n",
        "\n",
        "# Transforms\n",
        "RESIZE_SIZE = 232\n",
        "CROP_SIZE = 204\n"
      ]
    },
    {
      "cell_type": "code",
      "execution_count": 4,
      "metadata": {
        "id": "zx60-v7kHiUj"
      },
      "outputs": [],
      "source": [
        "# Create train, valid and test directories to sort dataset into.\n",
        "def makePartitionDirs():\n",
        "    for i in range(1, 103):\n",
        "        os.makedirs(\"data/102flowers/train/\" + str(i), exist_ok=True)\n",
        "        os.makedirs(\"data/102flowers/test/\" + str(i), exist_ok=True)\n",
        "        os.makedirs(\"data/102flowers/valid/\" + str(i), exist_ok=True)\n",
        "\n"
      ]
    },
    {
      "cell_type": "code",
      "execution_count": 5,
      "metadata": {
        "id": "QdFT0wF_HiUk"
      },
      "outputs": [],
      "source": [
        "# Distribute dataset into train, valid and test directories according to setid.mat specifications.\n",
        "def partitionData(imageLabels, setid, sortedPath, dataPath):\n",
        "    for i in range(len(imageLabels[\"labels\"][0])):\n",
        "        filename = \"image_\" + str(i + 1).zfill(5) + \".jpg\"\n",
        "        if i + 1 in setid[\"trnid\"][0]:\n",
        "            targetFolder = os.path.join(\n",
        "                sortedPath, \"train\", str(imageLabels[\"labels\"][0][i])\n",
        "            )\n",
        "        elif i + 1 in setid[\"valid\"][0]:\n",
        "            targetFolder = os.path.join(\n",
        "                sortedPath, \"valid\", str(imageLabels[\"labels\"][0][i])\n",
        "            )\n",
        "        else:\n",
        "            targetFolder = os.path.join(\n",
        "                sortedPath, \"test\", str(imageLabels[\"labels\"][0][i])\n",
        "            )\n",
        "        shutil.copy(\n",
        "            os.path.join(dataPath, filename), os.path.join(targetFolder, filename)\n",
        "        )\n",
        "\n"
      ]
    },
    {
      "cell_type": "code",
      "execution_count": 6,
      "metadata": {
        "id": "CNrtqjUjHiUn"
      },
      "outputs": [],
      "source": [
        "# Commonly-used normalisation values across numerous NNs like Resnet18 and ImageNet\n",
        "mean = [0.485, 0.456, 0.406]\n",
        "std = [0.229, 0.224, 0.225]\n",
        "trainTransforms = transforms.Compose(\n",
        "    [\n",
        "        transforms.Resize((RESIZE_SIZE, RESIZE_SIZE)),\n",
        "        # transforms.RandomRotation([-90, 180]),\n",
        "        transforms.RandomRotation(degrees=65),\n",
        "        transforms.RandomAutocontrast(),\n",
        "        transforms.CenterCrop((CROP_SIZE, CROP_SIZE)),\n",
        "        transforms.RandomHorizontalFlip(),\n",
        "        transforms.RandomVerticalFlip(),\n",
        "        transforms.RandomPerspective(distortion_scale=0.2, p=0.5),\n",
        "        transforms.ToTensor(),\n",
        "        transforms.Normalize(mean, std),\n",
        "    ]\n",
        ")\n",
        "testTransforms = validTransforms = transforms.Compose(\n",
        "    [\n",
        "        transforms.Resize((CROP_SIZE, CROP_SIZE)),\n",
        "        transforms.ToTensor(),\n",
        "        transforms.Normalize(mean, std),\n",
        "    ]\n",
        ")\n"
      ]
    },
    {
      "cell_type": "code",
      "execution_count": 7,
      "metadata": {
        "colab": {
          "base_uri": "https://localhost:8080/"
        },
        "id": "Q3AV_-EiHiUp",
        "outputId": "ad9703f9-668a-4bac-da4e-fcd88d95ce9f"
      },
      "outputs": [
        {
          "output_type": "stream",
          "name": "stdout",
          "text": [
            "Downloading https://thor.robots.ox.ac.uk/datasets/flowers-102/102flowers.tgz to data/flowers-102/102flowers.tgz\n"
          ]
        },
        {
          "output_type": "stream",
          "name": "stderr",
          "text": [
            "100%|██████████| 344862509/344862509 [00:25<00:00, 13388892.79it/s]\n"
          ]
        },
        {
          "output_type": "stream",
          "name": "stdout",
          "text": [
            "Extracting data/flowers-102/102flowers.tgz to data/flowers-102\n",
            "Downloading https://thor.robots.ox.ac.uk/datasets/flowers-102/imagelabels.mat to data/flowers-102/imagelabels.mat\n"
          ]
        },
        {
          "output_type": "stream",
          "name": "stderr",
          "text": [
            "100%|██████████| 502/502 [00:00<00:00, 582606.70it/s]\n"
          ]
        },
        {
          "output_type": "stream",
          "name": "stdout",
          "text": [
            "Downloading https://thor.robots.ox.ac.uk/datasets/flowers-102/setid.mat to data/flowers-102/setid.mat\n"
          ]
        },
        {
          "output_type": "stream",
          "name": "stderr",
          "text": [
            "100%|██████████| 14989/14989 [00:00<00:00, 13056785.60it/s]\n"
          ]
        }
      ],
      "source": [
        "dataPath = \"data/102flowers/jpg\"\n",
        "sortedPath = \"data/102flowers\"\n",
        "# setid = scio.loadmat(f\"data/setid.mat\")\n",
        "# imageLabels: dict = scio.loadmat(f\"data/imagelabels.mat\")\n",
        "# # Call these if you don't have the directories set up as needed.\n",
        "# makePartitionDirs()\n",
        "# partitionData(imageLabels, setid, sortedPath, dataPath)\n",
        "# trainingData = datasets.ImageFolder(\n",
        "#     root=\"data/102flowers/train\", transform=trainTransforms\n",
        "# )\n",
        "# validationData = datasets.ImageFolder(\n",
        "#     root=\"data/102flowers/valid\", transform=validTransforms\n",
        "# )\n",
        "# testingData = datasets.ImageFolder(\n",
        "#     root=\"data/102flowers/test\", transform=testTransforms\n",
        "# )\n",
        "trainingData = torchvision.datasets.Flowers102(\"data\", \"train\", trainTransforms, testTransforms, download=True)\n",
        "validationData = torchvision.datasets.Flowers102(\"data\", \"val\", trainTransforms, testTransforms, download=True)\n",
        "testingData = torchvision.datasets.Flowers102(\"data\", \"test\", trainTransforms, testTransforms, download=True)"
      ]
    },
    {
      "cell_type": "code",
      "execution_count": 8,
      "metadata": {
        "id": "2PPSMz3kHiUr"
      },
      "outputs": [],
      "source": [
        "# Data loaders for use as input.\n",
        "trainDataLoader = torch.utils.data.DataLoader(\n",
        "    trainingData, batch_size=BATCH_SIZE, shuffle=True\n",
        ")\n",
        "validDataLoader = torch.utils.data.DataLoader(\n",
        "    validationData, batch_size=BATCH_SIZE, shuffle=False\n",
        ")\n",
        "testDataLoader = torch.utils.data.DataLoader(\n",
        "    testingData, batch_size=BATCH_SIZE, shuffle=False\n",
        ")\n",
        "\n"
      ]
    },
    {
      "cell_type": "code",
      "execution_count": 9,
      "metadata": {
        "id": "loHY8PFYHiUt"
      },
      "outputs": [],
      "source": [
        "def showImage(image):\n",
        "    npImage = image.numpy() / 2 + 0.5\n",
        "    plt.imshow(np.transpose(npImage, (1, 2, 0)))\n",
        "    plt.show()\n",
        "\n"
      ]
    },
    {
      "cell_type": "code",
      "execution_count": 10,
      "metadata": {
        "id": "PZOPZzonHiUx"
      },
      "outputs": [],
      "source": [
        "# Absolute nightmare to solve and figure out\n",
        "# trainClassIndexes = {v: k for k, v in trainingData.class_to_idx.items()}\n",
        "# validClassIndexes = {v: k for k, v in validationData.class_to_idx.items()}\n",
        "# testClassIndexes = {v: k for k, v in testingData.class_to_idx.items()}"
      ]
    },
    {
      "cell_type": "code",
      "execution_count": 11,
      "metadata": {
        "id": "46umF-yQHiUz"
      },
      "outputs": [],
      "source": [
        "def printSampleImages(dataLoader, classIndexes):\n",
        "    dataIter = iter(trainDataLoader)\n",
        "    images, labels = next(dataIter)\n",
        "    showImage(torchvision.utils.make_grid(images))\n",
        "    print(\" \".join(f\"{trainClassIndexes[int(labels[j])]}\" for j in range(BATCH_SIZE)))\n"
      ]
    },
    {
      "cell_type": "code",
      "execution_count": 12,
      "metadata": {
        "id": "b7YmnR9MHiU1"
      },
      "outputs": [],
      "source": [
        "# The CNN Network\n",
        "# Define a convolution neural network\n",
        "class ConvNet(nn.Module):\n",
        "    def __init__(self):\n",
        "        super(ConvNet, self).__init__()\n",
        "        self.tensorMulti = 24 * (CROP_SIZE//2)**2\n",
        "\n",
        "        self.features = nn.Sequential(OrderedDict([\n",
        "            (\"conv1\", nn.Conv2d(in_channels=3, out_channels=12, kernel_size=5, stride=1, padding=2)),\n",
        "            (\"bn1\", nn.BatchNorm2d(num_features=12)),\n",
        "            (\"relu1\", nn.ReLU()),\n",
        "            (\"conv2\", nn.Conv2d(in_channels=12, out_channels=12, kernel_size=5, stride=1, padding=2)),\n",
        "            (\"bn2\", nn.BatchNorm2d(num_features=12)),\n",
        "            (\"relu2\", nn.ReLU()),\n",
        "            (\"pool\", nn.MaxPool2d(2, 2)),\n",
        "            (\"conv4\", nn.Conv2d(in_channels=12, out_channels=24, kernel_size=5, stride=1, padding=2)),\n",
        "            (\"bn4\", nn.BatchNorm2d(num_features=24)),\n",
        "            (\"relu3\", nn.ReLU()),\n",
        "            (\"conv5\", nn.Conv2d(in_channels=24, out_channels=24, kernel_size=5, stride=1, padding=2)),\n",
        "            (\"bn5\", nn.BatchNorm2d(num_features=24)),\n",
        "            (\"relu4\", nn.ReLU()),\n",
        "            (\"dp1\", nn.Dropout2d(p = 0.2)),\n",
        "\n",
        "            # New layers underneath\n",
        "            # (\"pool2\", nn.MaxPool2d(2, 2)),\n",
        "            # (\"conv6\", nn.Conv2d(in_channels=24, out_channels=36, kernel_size=5, stride=1, padding=2)),\n",
        "            # (\"bn6\", nn.BatchNorm2d(num_features=36)),\n",
        "            # (\"relu5\", nn.ReLU()),\n",
        "        ]))\n",
        "\n",
        "        self.classifier = nn.Sequential(OrderedDict([\n",
        "            # (\"fc0\", nn.Linear(in_features=self.tensorMulti, out_features=self.tensorMulti//NUM_OF_CLASSES)),\n",
        "            # (\"dp1\", nn.Dropout2d()),\n",
        "            (\"fc1\", nn.Linear(in_features=self.tensorMulti, out_features=NUM_OF_CLASSES)),\n",
        "        ]))\n",
        "\n",
        "\n",
        "        self.layers = self.features + self.classifier\n",
        "\n",
        "    def forward(self, input_img):\n",
        "        output = self.features(input_img)\n",
        "        # print(output.shape)\n",
        "        output = output.view(-1, self.tensorMulti)\n",
        "        # print(output.shape)\n",
        "        output = self.classifier(output)\n",
        "        return output\n",
        "\n",
        "    # def _calc_num_of_pools(self):\n",
        "    #     return self.__str__().count(\"MaxPool2d\")\n",
        "\n",
        "\n",
        "# Instantiate a neural network model\n",
        "model = ConvNet()\n"
      ]
    },
    {
      "cell_type": "code",
      "execution_count": 13,
      "metadata": {
        "id": "mlSVl8dTHiU2"
      },
      "outputs": [],
      "source": [
        "# Define the loss function with Classification Cross-Entropy loss and an optimizer with SGD optimizer\n",
        "lossFunction  = nn.CrossEntropyLoss()\n",
        "# Optimizer\n",
        "optimizer = torch.optim.SGD(model.parameters(), lr=LEARN_RATE, weight_decay=WEIGHT_DECAY)"
      ]
    },
    {
      "cell_type": "code",
      "execution_count": 14,
      "metadata": {
        "id": "UXHkjh1zHiU2"
      },
      "outputs": [],
      "source": [
        "# Function to save the model\n",
        "def saveModel(path = \"./firstF102Model.pth\"):\n",
        "    torch.save(model.state_dict(), path)\n"
      ]
    },
    {
      "cell_type": "code",
      "execution_count": 15,
      "metadata": {
        "id": "6RmHEzp3HiU3"
      },
      "outputs": [],
      "source": [
        "# Function to test the model with the validation dataset and print the accuracy for the validation images\n",
        "def trainingAccuracy():\n",
        "    model.eval()\n",
        "    accuracy = 0.0\n",
        "    total = 0.0\n",
        "\n",
        "    with torch.no_grad():\n",
        "        for data in trainDataLoader:\n",
        "            images, labels = data\n",
        "            # run the model on the train set to predict labels\n",
        "            outputs = model(images)\n",
        "            # the label with the highest value will be predicted\n",
        "            _, predicted = torch.max(outputs.data, 1)\n",
        "            total += labels.size(0)\n",
        "            accuracy += (predicted == labels).sum().item()\n",
        "\n",
        "    # compute the accuracy over all test images\n",
        "    accuracy = 100 * accuracy / total\n",
        "    return accuracy\n",
        "\n",
        "def validateAccuracy():\n",
        "    model.eval()\n",
        "    accuracy = 0.0\n",
        "    total = 0.0\n",
        "\n",
        "    with torch.no_grad():\n",
        "        for data in validDataLoader:\n",
        "            images, labels = data\n",
        "            # run the model on the test set to predict labels\n",
        "            outputs = model(images)\n",
        "            # the label with the highest value will be predicted\n",
        "            _, predicted = torch.max(outputs.data, 1)\n",
        "            total += labels.size(0)\n",
        "            accuracy += (predicted == labels).sum().item()\n",
        "\n",
        "    # compute the accuracy over all test images\n",
        "    accuracy = 100 * accuracy / total\n",
        "    return accuracy\n"
      ]
    },
    {
      "cell_type": "code",
      "execution_count": 16,
      "metadata": {
        "id": "FJRMfRaGHiU4"
      },
      "outputs": [],
      "source": [
        "def plotAccuracies(trainAccuracies, validAccuracies):\n",
        "    epochs = len(trainAccuracies)\n",
        "    fig, ax1 = plt.subplots()\n",
        "    ax2 = ax1.twinx()\n",
        "    ax1.plot(range(epochs), trainAccuracies, label='Training accuracy')\n",
        "    ax1.plot(range(epochs), validAccuracies, label='Validation accuracy')\n",
        "    ax1.set_title('Training and Validation Accuracies against Loss')\n",
        "    ax1.set_xlabel('Epoch')\n",
        "    ax1.set_ylabel('Accuracy')\n",
        "    ax1.legend()"
      ]
    },
    {
      "cell_type": "code",
      "execution_count": 17,
      "metadata": {
        "id": "0dHlCPtKHiU5"
      },
      "outputs": [],
      "source": [
        "# Training function. We simply have to loop over our data iterator and feed the inputs to the network and optimize.\n",
        "def train(save_model_path, bestAccuracy = 0.0):\n",
        "    startTime = time.time()\n",
        "    lastCheckpointTime = startTime\n",
        "    trainAccuracies = []\n",
        "    validAccuracies = []\n",
        "    # Define your execution device\n",
        "    device = torch.device(\"cuda:0\" if torch.cuda.is_available() else \"cpu\")\n",
        "    print(\"The model will be running on\", device, \"device\")\n",
        "    # Convert model parameters and buffers to CPU or Cuda\n",
        "    model.to(device) # Regretfully AMD GPUs are unsupported for PyTorch models.\n",
        "\n",
        "    runningAccuracy = 0.0\n",
        "    fails_to_imprv = 0\n",
        "\n",
        "    for epoch in range(NUM_EPOCHS):  # loop over the dataset multiple times\n",
        "        # Evaluation and Training of the Dataset\n",
        "        model.train()\n",
        "        runningLoss = 0.0\n",
        "\n",
        "        print(\"\\n##############################\")\n",
        "        for i, (images, labels) in enumerate(trainDataLoader, 0):\n",
        "            # Get the inputs\n",
        "            # Documentation on Variable: https://sebarnold.net/tutorials/beginner/examples_autograd/two_layer_net_autograd.html\n",
        "            images = torch.autograd.Variable(images.to(device))\n",
        "            labels = torch.autograd.Variable(labels.to(device))\n",
        "            # Zero the parameter gradients\n",
        "            optimizer.zero_grad()\n",
        "            # Predict classes using images from the training set\n",
        "            outputs = model(images)\n",
        "            # Compute the loss based on model output and real labels\n",
        "            loss = lossFunction(outputs, labels)\n",
        "            # Back-propagate the loss\n",
        "            loss.backward()\n",
        "            # adjust parameters based on the calculated gradients\n",
        "            optimizer.step()\n",
        "            runningLoss += loss.item()  # extract the loss value\n",
        "            if i % BATCH_SIZE == BATCH_SIZE - 1:\n",
        "                # print twice per epoch\n",
        "                print(\"[%d, %5d] loss: %.3f\" % (epoch + 1, i + 1, runningLoss / BATCH_SIZE))\n",
        "                # zero the loss\n",
        "                runningLoss = 0.0\n",
        "\n",
        "        # Compute and print the average accuracy fo this epoch when tested over all validation images\n",
        "        trainAccuracy = trainingAccuracy()\n",
        "        trainAccuracies.append(trainAccuracy)\n",
        "        validAccuracy = validateAccuracy()\n",
        "        validAccuracies.append(validAccuracy)\n",
        "        plotAccuracies(trainAccuracies, validAccuracies)\n",
        "        print(\n",
        "            \"For epoch\",\n",
        "            epoch + 1,\n",
        "            \"the training accuracy over the whole training set is %.2f %%\" % (trainAccuracy),\n",
        "            \"\\nthe validation accuracy over the whole validation set is %.2f %%\" % (validAccuracy),\n",
        "        )\n",
        "        elapsedTime = time.time() - lastCheckpointTime\n",
        "        if elapsedTime >= CHECKPOINT_PERIOD and validAccuracy > bestAccuracy:\n",
        "            saveModel(save_model_path)\n",
        "            lastCheckpointTime = time.time()\n",
        "\n",
        "        # Check if the maximum training time has elapsed\n",
        "        elapsedTime  = time.time() - startTime\n",
        "        if elapsedTime  >= MAX_TRAIN_TIME and validAccuracy > bestAccuracy:\n",
        "            saveModel(save_model_path)\n",
        "            break\n",
        "\n",
        "        if validAccuracy > runningAccuracy:\n",
        "            print(\"Improvement made: %.2f%% better.\" % (validAccuracy - runningAccuracy))\n",
        "            runningAccuracy = validAccuracy\n",
        "            fails_to_imprv = 0\n",
        "        else:\n",
        "            fails_to_imprv += 1\n",
        "            print(\"Failed to improve: %d, %.2f%% worse.\" % (fails_to_imprv, (runningAccuracy - validAccuracy)))\n",
        "\n",
        "        # we want to save the model if the accuracy is the best\n",
        "        if validAccuracy > bestAccuracy or fails_to_imprv > CHANCES_TO_IMPROVE:\n",
        "            saveModel(save_model_path)\n",
        "            bestAccuracy = validAccuracy\n",
        "\n"
      ]
    },
    {
      "cell_type": "code",
      "execution_count": 18,
      "metadata": {
        "id": "bHaEf8NkHiU7"
      },
      "outputs": [],
      "source": [
        "# Function to test the model with a batch of images and show the labels predictions\n",
        "def testBatch():\n",
        "    # get batch of images from the test DataLoader\n",
        "    dataIter = iter(testDataLoader)\n",
        "    images, labels = next(dataIter)\n",
        "    showImage(torchvision.utils.make_grid(images))\n",
        "    print(\n",
        "        \"Real classes: \",\n",
        "        \" \".join(f\"{testClassIndexes[int(labels[j])]}\" for j in range(BATCH_SIZE)),\n",
        "    )\n",
        "    # Let's see what if the model identifiers the  labels of those example\n",
        "    outputs = model(images)\n",
        "\n",
        "    # get probabilities for all 102 labels. The highest (max) probability should align with correct label\n",
        "    _, predicted = torch.max(outputs, 1)\n",
        "\n",
        "    # show the predicted labels on the screen with the real ones for comparison\n",
        "    print(\n",
        "        \"Predicted: \",\n",
        "        \" \".join(f\"{testClassIndexes[int(predicted[j])]}\" for j in range(BATCH_SIZE)),\n",
        "    )"
      ]
    },
    {
      "cell_type": "code",
      "execution_count": 19,
      "metadata": {
        "id": "akTzVmVEHiU8"
      },
      "outputs": [],
      "source": [
        "# Function to validate the model with a batch of images from the validation set.\n",
        "def validBatch():\n",
        "    model.eval()\n",
        "    dataIter = iter(validDataLoader)\n",
        "    images, labels = next(dataIter)\n",
        "    showImage(torchvision.utils.make_grid(images))\n",
        "    print(\n",
        "        \"Real classes: \",\n",
        "        \" \".join(f\"{validClassIndexes[int(labels[j])]}\" for j in range(BATCH_SIZE)),\n",
        "    )\n",
        "    outputs = model(images)\n",
        "    _, predicted = torch.max(outputs, 1)\n",
        "    print(\n",
        "        \"Predicted: \",\n",
        "        \" \".join(f\"{validClassIndexes[int(predicted[j])]}\" for j in range(BATCH_SIZE)),\n",
        "    )\n"
      ]
    },
    {
      "cell_type": "code",
      "execution_count": 20,
      "metadata": {
        "id": "E0K1iHvLHiU9"
      },
      "outputs": [],
      "source": [
        "def trainOurModel(save_model_path = \"firstF102Model.pth\"):\n",
        "    # best_accurracy = 0.0\n",
        "    # if os.path.isfile(model_path):\n",
        "    #     best_model = ConvNet()\n",
        "    #     # best_optimizer = torch.optim.SGD(best_model.parameters(), lr=LEARN_RATE, weight_decay=WEIGHT_DECAY)\n",
        "    #     best_model.load_state_dict(torch.load(model_path))\n",
        "    #     best_accurracy = validateAccuracy(best_model)\n",
        "\n",
        "    # Let's build our model\n",
        "    train(save_model_path, 0.0)\n",
        "    print(\"Finished Training\")\n",
        "\n",
        "    # Test which classes performed well\n",
        "    validateAccuracy()\n",
        "\n",
        "    # Let's load the model we just created and test the accuracy per label\n",
        "    # Optimizer\n",
        "    model.load_state_dict(torch.load(save_model_path))\n",
        "\n",
        "    # Test with batch of images\n",
        "    validBatch()\n",
        "\n"
      ]
    },
    {
      "cell_type": "code",
      "execution_count": 21,
      "metadata": {
        "id": "Nwcvae_bHiU-"
      },
      "outputs": [],
      "source": [
        "# Function to test what classes performed well\n",
        "def testClasses(model):\n",
        "    model.eval()\n",
        "    class_correct = list(0.0 for i in range(NUM_OF_CLASSES))\n",
        "    class_total = list(0.0 for i in range(NUM_OF_CLASSES))\n",
        "    with torch.no_grad():\n",
        "        for data in testDataLoader:\n",
        "            images, labels = data\n",
        "            outputs = model(images)\n",
        "            _, predicted = torch.max(outputs, 1)\n",
        "            c = (predicted == labels).squeeze()\n",
        "            for i in range(BATCH_SIZE):\n",
        "                label = labels[i]\n",
        "                class_correct[label] += c[i].item()\n",
        "                class_total[label] += 1\n",
        "\n",
        "    for i in range(NUM_OF_CLASSES):\n",
        "        print(\n",
        "            \"Accuracy of %5s : %2d %%\"\n",
        "            % (testClassIndexes[i], 100 * class_correct[i] / class_total[i])\n",
        "        )\n"
      ]
    },
    {
      "cell_type": "code",
      "execution_count": 22,
      "metadata": {
        "colab": {
          "base_uri": "https://localhost:8080/",
          "height": 397
        },
        "id": "xpANBha2HiU_",
        "outputId": "d7079413-1c29-466c-9883-1cc1085b8c5c"
      },
      "outputs": [
        {
          "output_type": "stream",
          "name": "stdout",
          "text": [
            "The model will be running on cuda:0 device\n",
            "\n",
            "##############################\n"
          ]
        },
        {
          "output_type": "error",
          "ename": "TypeError",
          "evalue": "ignored",
          "traceback": [
            "\u001b[0;31m---------------------------------------------------------------------------\u001b[0m",
            "\u001b[0;31mTypeError\u001b[0m                                 Traceback (most recent call last)",
            "\u001b[0;32m<ipython-input-22-2f921e2d3b0c>\u001b[0m in \u001b[0;36m<cell line: 2>\u001b[0;34m()\u001b[0m\n\u001b[1;32m      1\u001b[0m \u001b[0;31m# Begin the training\u001b[0m\u001b[0;34m\u001b[0m\u001b[0;34m\u001b[0m\u001b[0m\n\u001b[0;32m----> 2\u001b[0;31m \u001b[0mtrainOurModel\u001b[0m\u001b[0;34m(\u001b[0m\u001b[0;34m\"firstF102Model-204.pth\"\u001b[0m\u001b[0;34m)\u001b[0m\u001b[0;34m\u001b[0m\u001b[0;34m\u001b[0m\u001b[0m\n\u001b[0m\u001b[1;32m      3\u001b[0m \u001b[0;31m# testClasses()\u001b[0m\u001b[0;34m\u001b[0m\u001b[0;34m\u001b[0m\u001b[0m\n",
            "\u001b[0;32m<ipython-input-20-64d6458d2f7f>\u001b[0m in \u001b[0;36mtrainOurModel\u001b[0;34m(save_model_path)\u001b[0m\n\u001b[1;32m      8\u001b[0m \u001b[0;34m\u001b[0m\u001b[0m\n\u001b[1;32m      9\u001b[0m     \u001b[0;31m# Let's build our model\u001b[0m\u001b[0;34m\u001b[0m\u001b[0;34m\u001b[0m\u001b[0m\n\u001b[0;32m---> 10\u001b[0;31m     \u001b[0mtrain\u001b[0m\u001b[0;34m(\u001b[0m\u001b[0msave_model_path\u001b[0m\u001b[0;34m,\u001b[0m \u001b[0;36m0.0\u001b[0m\u001b[0;34m)\u001b[0m\u001b[0;34m\u001b[0m\u001b[0;34m\u001b[0m\u001b[0m\n\u001b[0m\u001b[1;32m     11\u001b[0m     \u001b[0mprint\u001b[0m\u001b[0;34m(\u001b[0m\u001b[0;34m\"Finished Training\"\u001b[0m\u001b[0;34m)\u001b[0m\u001b[0;34m\u001b[0m\u001b[0;34m\u001b[0m\u001b[0m\n\u001b[1;32m     12\u001b[0m \u001b[0;34m\u001b[0m\u001b[0m\n",
            "\u001b[0;32m<ipython-input-17-f943c8ed7b8a>\u001b[0m in \u001b[0;36mtrain\u001b[0;34m(save_model_path, bestAccuracy)\u001b[0m\n\u001b[1;32m     20\u001b[0m \u001b[0;34m\u001b[0m\u001b[0m\n\u001b[1;32m     21\u001b[0m         \u001b[0mprint\u001b[0m\u001b[0;34m(\u001b[0m\u001b[0;34m\"\\n##############################\"\u001b[0m\u001b[0;34m)\u001b[0m\u001b[0;34m\u001b[0m\u001b[0;34m\u001b[0m\u001b[0m\n\u001b[0;32m---> 22\u001b[0;31m         \u001b[0;32mfor\u001b[0m \u001b[0mi\u001b[0m\u001b[0;34m,\u001b[0m \u001b[0;34m(\u001b[0m\u001b[0mimages\u001b[0m\u001b[0;34m,\u001b[0m \u001b[0mlabels\u001b[0m\u001b[0;34m)\u001b[0m \u001b[0;32min\u001b[0m \u001b[0menumerate\u001b[0m\u001b[0;34m(\u001b[0m\u001b[0mtrainDataLoader\u001b[0m\u001b[0;34m,\u001b[0m \u001b[0;36m0\u001b[0m\u001b[0;34m)\u001b[0m\u001b[0;34m:\u001b[0m\u001b[0;34m\u001b[0m\u001b[0;34m\u001b[0m\u001b[0m\n\u001b[0m\u001b[1;32m     23\u001b[0m             \u001b[0;31m# Get the inputs\u001b[0m\u001b[0;34m\u001b[0m\u001b[0;34m\u001b[0m\u001b[0m\n\u001b[1;32m     24\u001b[0m             \u001b[0;31m# Documentation on Variable: https://sebarnold.net/tutorials/beginner/examples_autograd/two_layer_net_autograd.html\u001b[0m\u001b[0;34m\u001b[0m\u001b[0;34m\u001b[0m\u001b[0m\n",
            "\u001b[0;32m/usr/local/lib/python3.10/dist-packages/torch/utils/data/dataloader.py\u001b[0m in \u001b[0;36m__next__\u001b[0;34m(self)\u001b[0m\n\u001b[1;32m    632\u001b[0m                 \u001b[0;31m# TODO(https://github.com/pytorch/pytorch/issues/76750)\u001b[0m\u001b[0;34m\u001b[0m\u001b[0;34m\u001b[0m\u001b[0m\n\u001b[1;32m    633\u001b[0m                 \u001b[0mself\u001b[0m\u001b[0;34m.\u001b[0m\u001b[0m_reset\u001b[0m\u001b[0;34m(\u001b[0m\u001b[0;34m)\u001b[0m  \u001b[0;31m# type: ignore[call-arg]\u001b[0m\u001b[0;34m\u001b[0m\u001b[0;34m\u001b[0m\u001b[0m\n\u001b[0;32m--> 634\u001b[0;31m             \u001b[0mdata\u001b[0m \u001b[0;34m=\u001b[0m \u001b[0mself\u001b[0m\u001b[0;34m.\u001b[0m\u001b[0m_next_data\u001b[0m\u001b[0;34m(\u001b[0m\u001b[0;34m)\u001b[0m\u001b[0;34m\u001b[0m\u001b[0;34m\u001b[0m\u001b[0m\n\u001b[0m\u001b[1;32m    635\u001b[0m             \u001b[0mself\u001b[0m\u001b[0;34m.\u001b[0m\u001b[0m_num_yielded\u001b[0m \u001b[0;34m+=\u001b[0m \u001b[0;36m1\u001b[0m\u001b[0;34m\u001b[0m\u001b[0;34m\u001b[0m\u001b[0m\n\u001b[1;32m    636\u001b[0m             \u001b[0;32mif\u001b[0m \u001b[0mself\u001b[0m\u001b[0;34m.\u001b[0m\u001b[0m_dataset_kind\u001b[0m \u001b[0;34m==\u001b[0m \u001b[0m_DatasetKind\u001b[0m\u001b[0;34m.\u001b[0m\u001b[0mIterable\u001b[0m \u001b[0;32mand\u001b[0m\u001b[0;31m \u001b[0m\u001b[0;31m\\\u001b[0m\u001b[0;34m\u001b[0m\u001b[0;34m\u001b[0m\u001b[0m\n",
            "\u001b[0;32m/usr/local/lib/python3.10/dist-packages/torch/utils/data/dataloader.py\u001b[0m in \u001b[0;36m_next_data\u001b[0;34m(self)\u001b[0m\n\u001b[1;32m    676\u001b[0m     \u001b[0;32mdef\u001b[0m \u001b[0m_next_data\u001b[0m\u001b[0;34m(\u001b[0m\u001b[0mself\u001b[0m\u001b[0;34m)\u001b[0m\u001b[0;34m:\u001b[0m\u001b[0;34m\u001b[0m\u001b[0;34m\u001b[0m\u001b[0m\n\u001b[1;32m    677\u001b[0m         \u001b[0mindex\u001b[0m \u001b[0;34m=\u001b[0m \u001b[0mself\u001b[0m\u001b[0;34m.\u001b[0m\u001b[0m_next_index\u001b[0m\u001b[0;34m(\u001b[0m\u001b[0;34m)\u001b[0m  \u001b[0;31m# may raise StopIteration\u001b[0m\u001b[0;34m\u001b[0m\u001b[0;34m\u001b[0m\u001b[0m\n\u001b[0;32m--> 678\u001b[0;31m         \u001b[0mdata\u001b[0m \u001b[0;34m=\u001b[0m \u001b[0mself\u001b[0m\u001b[0;34m.\u001b[0m\u001b[0m_dataset_fetcher\u001b[0m\u001b[0;34m.\u001b[0m\u001b[0mfetch\u001b[0m\u001b[0;34m(\u001b[0m\u001b[0mindex\u001b[0m\u001b[0;34m)\u001b[0m  \u001b[0;31m# may raise StopIteration\u001b[0m\u001b[0;34m\u001b[0m\u001b[0;34m\u001b[0m\u001b[0m\n\u001b[0m\u001b[1;32m    679\u001b[0m         \u001b[0;32mif\u001b[0m \u001b[0mself\u001b[0m\u001b[0;34m.\u001b[0m\u001b[0m_pin_memory\u001b[0m\u001b[0;34m:\u001b[0m\u001b[0;34m\u001b[0m\u001b[0;34m\u001b[0m\u001b[0m\n\u001b[1;32m    680\u001b[0m             \u001b[0mdata\u001b[0m \u001b[0;34m=\u001b[0m \u001b[0m_utils\u001b[0m\u001b[0;34m.\u001b[0m\u001b[0mpin_memory\u001b[0m\u001b[0;34m.\u001b[0m\u001b[0mpin_memory\u001b[0m\u001b[0;34m(\u001b[0m\u001b[0mdata\u001b[0m\u001b[0;34m,\u001b[0m \u001b[0mself\u001b[0m\u001b[0;34m.\u001b[0m\u001b[0m_pin_memory_device\u001b[0m\u001b[0;34m)\u001b[0m\u001b[0;34m\u001b[0m\u001b[0;34m\u001b[0m\u001b[0m\n",
            "\u001b[0;32m/usr/local/lib/python3.10/dist-packages/torch/utils/data/_utils/fetch.py\u001b[0m in \u001b[0;36mfetch\u001b[0;34m(self, possibly_batched_index)\u001b[0m\n\u001b[1;32m     49\u001b[0m                 \u001b[0mdata\u001b[0m \u001b[0;34m=\u001b[0m \u001b[0mself\u001b[0m\u001b[0;34m.\u001b[0m\u001b[0mdataset\u001b[0m\u001b[0;34m.\u001b[0m\u001b[0m__getitems__\u001b[0m\u001b[0;34m(\u001b[0m\u001b[0mpossibly_batched_index\u001b[0m\u001b[0;34m)\u001b[0m\u001b[0;34m\u001b[0m\u001b[0;34m\u001b[0m\u001b[0m\n\u001b[1;32m     50\u001b[0m             \u001b[0;32melse\u001b[0m\u001b[0;34m:\u001b[0m\u001b[0;34m\u001b[0m\u001b[0;34m\u001b[0m\u001b[0m\n\u001b[0;32m---> 51\u001b[0;31m                 \u001b[0mdata\u001b[0m \u001b[0;34m=\u001b[0m \u001b[0;34m[\u001b[0m\u001b[0mself\u001b[0m\u001b[0;34m.\u001b[0m\u001b[0mdataset\u001b[0m\u001b[0;34m[\u001b[0m\u001b[0midx\u001b[0m\u001b[0;34m]\u001b[0m \u001b[0;32mfor\u001b[0m \u001b[0midx\u001b[0m \u001b[0;32min\u001b[0m \u001b[0mpossibly_batched_index\u001b[0m\u001b[0;34m]\u001b[0m\u001b[0;34m\u001b[0m\u001b[0;34m\u001b[0m\u001b[0m\n\u001b[0m\u001b[1;32m     52\u001b[0m         \u001b[0;32melse\u001b[0m\u001b[0;34m:\u001b[0m\u001b[0;34m\u001b[0m\u001b[0;34m\u001b[0m\u001b[0m\n\u001b[1;32m     53\u001b[0m             \u001b[0mdata\u001b[0m \u001b[0;34m=\u001b[0m \u001b[0mself\u001b[0m\u001b[0;34m.\u001b[0m\u001b[0mdataset\u001b[0m\u001b[0;34m[\u001b[0m\u001b[0mpossibly_batched_index\u001b[0m\u001b[0;34m]\u001b[0m\u001b[0;34m\u001b[0m\u001b[0;34m\u001b[0m\u001b[0m\n",
            "\u001b[0;32m/usr/local/lib/python3.10/dist-packages/torch/utils/data/_utils/fetch.py\u001b[0m in \u001b[0;36m<listcomp>\u001b[0;34m(.0)\u001b[0m\n\u001b[1;32m     49\u001b[0m                 \u001b[0mdata\u001b[0m \u001b[0;34m=\u001b[0m \u001b[0mself\u001b[0m\u001b[0;34m.\u001b[0m\u001b[0mdataset\u001b[0m\u001b[0;34m.\u001b[0m\u001b[0m__getitems__\u001b[0m\u001b[0;34m(\u001b[0m\u001b[0mpossibly_batched_index\u001b[0m\u001b[0;34m)\u001b[0m\u001b[0;34m\u001b[0m\u001b[0;34m\u001b[0m\u001b[0m\n\u001b[1;32m     50\u001b[0m             \u001b[0;32melse\u001b[0m\u001b[0;34m:\u001b[0m\u001b[0;34m\u001b[0m\u001b[0;34m\u001b[0m\u001b[0m\n\u001b[0;32m---> 51\u001b[0;31m                 \u001b[0mdata\u001b[0m \u001b[0;34m=\u001b[0m \u001b[0;34m[\u001b[0m\u001b[0mself\u001b[0m\u001b[0;34m.\u001b[0m\u001b[0mdataset\u001b[0m\u001b[0;34m[\u001b[0m\u001b[0midx\u001b[0m\u001b[0;34m]\u001b[0m \u001b[0;32mfor\u001b[0m \u001b[0midx\u001b[0m \u001b[0;32min\u001b[0m \u001b[0mpossibly_batched_index\u001b[0m\u001b[0;34m]\u001b[0m\u001b[0;34m\u001b[0m\u001b[0;34m\u001b[0m\u001b[0m\n\u001b[0m\u001b[1;32m     52\u001b[0m         \u001b[0;32melse\u001b[0m\u001b[0;34m:\u001b[0m\u001b[0;34m\u001b[0m\u001b[0;34m\u001b[0m\u001b[0m\n\u001b[1;32m     53\u001b[0m             \u001b[0mdata\u001b[0m \u001b[0;34m=\u001b[0m \u001b[0mself\u001b[0m\u001b[0;34m.\u001b[0m\u001b[0mdataset\u001b[0m\u001b[0;34m[\u001b[0m\u001b[0mpossibly_batched_index\u001b[0m\u001b[0;34m]\u001b[0m\u001b[0;34m\u001b[0m\u001b[0;34m\u001b[0m\u001b[0m\n",
            "\u001b[0;32m/usr/local/lib/python3.10/dist-packages/torchvision/datasets/flowers102.py\u001b[0m in \u001b[0;36m__getitem__\u001b[0;34m(self, idx)\u001b[0m\n\u001b[1;32m     85\u001b[0m \u001b[0;34m\u001b[0m\u001b[0m\n\u001b[1;32m     86\u001b[0m         \u001b[0;32mif\u001b[0m \u001b[0mself\u001b[0m\u001b[0;34m.\u001b[0m\u001b[0mtarget_transform\u001b[0m\u001b[0;34m:\u001b[0m\u001b[0;34m\u001b[0m\u001b[0;34m\u001b[0m\u001b[0m\n\u001b[0;32m---> 87\u001b[0;31m             \u001b[0mlabel\u001b[0m \u001b[0;34m=\u001b[0m \u001b[0mself\u001b[0m\u001b[0;34m.\u001b[0m\u001b[0mtarget_transform\u001b[0m\u001b[0;34m(\u001b[0m\u001b[0mlabel\u001b[0m\u001b[0;34m)\u001b[0m\u001b[0;34m\u001b[0m\u001b[0;34m\u001b[0m\u001b[0m\n\u001b[0m\u001b[1;32m     88\u001b[0m \u001b[0;34m\u001b[0m\u001b[0m\n\u001b[1;32m     89\u001b[0m         \u001b[0;32mreturn\u001b[0m \u001b[0mimage\u001b[0m\u001b[0;34m,\u001b[0m \u001b[0mlabel\u001b[0m\u001b[0;34m\u001b[0m\u001b[0;34m\u001b[0m\u001b[0m\n",
            "\u001b[0;32m/usr/local/lib/python3.10/dist-packages/torchvision/transforms/transforms.py\u001b[0m in \u001b[0;36m__call__\u001b[0;34m(self, img)\u001b[0m\n\u001b[1;32m     93\u001b[0m     \u001b[0;32mdef\u001b[0m \u001b[0m__call__\u001b[0m\u001b[0;34m(\u001b[0m\u001b[0mself\u001b[0m\u001b[0;34m,\u001b[0m \u001b[0mimg\u001b[0m\u001b[0;34m)\u001b[0m\u001b[0;34m:\u001b[0m\u001b[0;34m\u001b[0m\u001b[0;34m\u001b[0m\u001b[0m\n\u001b[1;32m     94\u001b[0m         \u001b[0;32mfor\u001b[0m \u001b[0mt\u001b[0m \u001b[0;32min\u001b[0m \u001b[0mself\u001b[0m\u001b[0;34m.\u001b[0m\u001b[0mtransforms\u001b[0m\u001b[0;34m:\u001b[0m\u001b[0;34m\u001b[0m\u001b[0;34m\u001b[0m\u001b[0m\n\u001b[0;32m---> 95\u001b[0;31m             \u001b[0mimg\u001b[0m \u001b[0;34m=\u001b[0m \u001b[0mt\u001b[0m\u001b[0;34m(\u001b[0m\u001b[0mimg\u001b[0m\u001b[0;34m)\u001b[0m\u001b[0;34m\u001b[0m\u001b[0;34m\u001b[0m\u001b[0m\n\u001b[0m\u001b[1;32m     96\u001b[0m         \u001b[0;32mreturn\u001b[0m \u001b[0mimg\u001b[0m\u001b[0;34m\u001b[0m\u001b[0;34m\u001b[0m\u001b[0m\n\u001b[1;32m     97\u001b[0m \u001b[0;34m\u001b[0m\u001b[0m\n",
            "\u001b[0;32m/usr/local/lib/python3.10/dist-packages/torch/nn/modules/module.py\u001b[0m in \u001b[0;36m_call_impl\u001b[0;34m(self, *args, **kwargs)\u001b[0m\n\u001b[1;32m   1499\u001b[0m                 \u001b[0;32mor\u001b[0m \u001b[0m_global_backward_pre_hooks\u001b[0m \u001b[0;32mor\u001b[0m \u001b[0m_global_backward_hooks\u001b[0m\u001b[0;34m\u001b[0m\u001b[0;34m\u001b[0m\u001b[0m\n\u001b[1;32m   1500\u001b[0m                 or _global_forward_hooks or _global_forward_pre_hooks):\n\u001b[0;32m-> 1501\u001b[0;31m             \u001b[0;32mreturn\u001b[0m \u001b[0mforward_call\u001b[0m\u001b[0;34m(\u001b[0m\u001b[0;34m*\u001b[0m\u001b[0margs\u001b[0m\u001b[0;34m,\u001b[0m \u001b[0;34m**\u001b[0m\u001b[0mkwargs\u001b[0m\u001b[0;34m)\u001b[0m\u001b[0;34m\u001b[0m\u001b[0;34m\u001b[0m\u001b[0m\n\u001b[0m\u001b[1;32m   1502\u001b[0m         \u001b[0;31m# Do not call functions when jit is used\u001b[0m\u001b[0;34m\u001b[0m\u001b[0;34m\u001b[0m\u001b[0m\n\u001b[1;32m   1503\u001b[0m         \u001b[0mfull_backward_hooks\u001b[0m\u001b[0;34m,\u001b[0m \u001b[0mnon_full_backward_hooks\u001b[0m \u001b[0;34m=\u001b[0m \u001b[0;34m[\u001b[0m\u001b[0;34m]\u001b[0m\u001b[0;34m,\u001b[0m \u001b[0;34m[\u001b[0m\u001b[0;34m]\u001b[0m\u001b[0;34m\u001b[0m\u001b[0;34m\u001b[0m\u001b[0m\n",
            "\u001b[0;32m/usr/local/lib/python3.10/dist-packages/torchvision/transforms/transforms.py\u001b[0m in \u001b[0;36mforward\u001b[0;34m(self, img)\u001b[0m\n\u001b[1;32m    359\u001b[0m             \u001b[0mPIL\u001b[0m \u001b[0mImage\u001b[0m \u001b[0;32mor\u001b[0m \u001b[0mTensor\u001b[0m\u001b[0;34m:\u001b[0m \u001b[0mRescaled\u001b[0m \u001b[0mimage\u001b[0m\u001b[0;34m.\u001b[0m\u001b[0;34m\u001b[0m\u001b[0;34m\u001b[0m\u001b[0m\n\u001b[1;32m    360\u001b[0m         \"\"\"\n\u001b[0;32m--> 361\u001b[0;31m         \u001b[0;32mreturn\u001b[0m \u001b[0mF\u001b[0m\u001b[0;34m.\u001b[0m\u001b[0mresize\u001b[0m\u001b[0;34m(\u001b[0m\u001b[0mimg\u001b[0m\u001b[0;34m,\u001b[0m \u001b[0mself\u001b[0m\u001b[0;34m.\u001b[0m\u001b[0msize\u001b[0m\u001b[0;34m,\u001b[0m \u001b[0mself\u001b[0m\u001b[0;34m.\u001b[0m\u001b[0minterpolation\u001b[0m\u001b[0;34m,\u001b[0m \u001b[0mself\u001b[0m\u001b[0;34m.\u001b[0m\u001b[0mmax_size\u001b[0m\u001b[0;34m,\u001b[0m \u001b[0mself\u001b[0m\u001b[0;34m.\u001b[0m\u001b[0mantialias\u001b[0m\u001b[0;34m)\u001b[0m\u001b[0;34m\u001b[0m\u001b[0;34m\u001b[0m\u001b[0m\n\u001b[0m\u001b[1;32m    362\u001b[0m \u001b[0;34m\u001b[0m\u001b[0m\n\u001b[1;32m    363\u001b[0m     \u001b[0;32mdef\u001b[0m \u001b[0m__repr__\u001b[0m\u001b[0;34m(\u001b[0m\u001b[0mself\u001b[0m\u001b[0;34m)\u001b[0m \u001b[0;34m->\u001b[0m \u001b[0mstr\u001b[0m\u001b[0;34m:\u001b[0m\u001b[0;34m\u001b[0m\u001b[0;34m\u001b[0m\u001b[0m\n",
            "\u001b[0;32m/usr/local/lib/python3.10/dist-packages/torchvision/transforms/functional.py\u001b[0m in \u001b[0;36mresize\u001b[0;34m(img, size, interpolation, max_size, antialias)\u001b[0m\n\u001b[1;32m    474\u001b[0m             )\n\u001b[1;32m    475\u001b[0m \u001b[0;34m\u001b[0m\u001b[0m\n\u001b[0;32m--> 476\u001b[0;31m     \u001b[0m_\u001b[0m\u001b[0;34m,\u001b[0m \u001b[0mimage_height\u001b[0m\u001b[0;34m,\u001b[0m \u001b[0mimage_width\u001b[0m \u001b[0;34m=\u001b[0m \u001b[0mget_dimensions\u001b[0m\u001b[0;34m(\u001b[0m\u001b[0mimg\u001b[0m\u001b[0;34m)\u001b[0m\u001b[0;34m\u001b[0m\u001b[0;34m\u001b[0m\u001b[0m\n\u001b[0m\u001b[1;32m    477\u001b[0m     \u001b[0;32mif\u001b[0m \u001b[0misinstance\u001b[0m\u001b[0;34m(\u001b[0m\u001b[0msize\u001b[0m\u001b[0;34m,\u001b[0m \u001b[0mint\u001b[0m\u001b[0;34m)\u001b[0m\u001b[0;34m:\u001b[0m\u001b[0;34m\u001b[0m\u001b[0;34m\u001b[0m\u001b[0m\n\u001b[1;32m    478\u001b[0m         \u001b[0msize\u001b[0m \u001b[0;34m=\u001b[0m \u001b[0;34m[\u001b[0m\u001b[0msize\u001b[0m\u001b[0;34m]\u001b[0m\u001b[0;34m\u001b[0m\u001b[0;34m\u001b[0m\u001b[0m\n",
            "\u001b[0;32m/usr/local/lib/python3.10/dist-packages/torchvision/transforms/functional.py\u001b[0m in \u001b[0;36mget_dimensions\u001b[0;34m(img)\u001b[0m\n\u001b[1;32m     76\u001b[0m         \u001b[0;32mreturn\u001b[0m \u001b[0mF_t\u001b[0m\u001b[0;34m.\u001b[0m\u001b[0mget_dimensions\u001b[0m\u001b[0;34m(\u001b[0m\u001b[0mimg\u001b[0m\u001b[0;34m)\u001b[0m\u001b[0;34m\u001b[0m\u001b[0;34m\u001b[0m\u001b[0m\n\u001b[1;32m     77\u001b[0m \u001b[0;34m\u001b[0m\u001b[0m\n\u001b[0;32m---> 78\u001b[0;31m     \u001b[0;32mreturn\u001b[0m \u001b[0mF_pil\u001b[0m\u001b[0;34m.\u001b[0m\u001b[0mget_dimensions\u001b[0m\u001b[0;34m(\u001b[0m\u001b[0mimg\u001b[0m\u001b[0;34m)\u001b[0m\u001b[0;34m\u001b[0m\u001b[0;34m\u001b[0m\u001b[0m\n\u001b[0m\u001b[1;32m     79\u001b[0m \u001b[0;34m\u001b[0m\u001b[0m\n\u001b[1;32m     80\u001b[0m \u001b[0;34m\u001b[0m\u001b[0m\n",
            "\u001b[0;32m/usr/local/lib/python3.10/dist-packages/torchvision/transforms/_functional_pil.py\u001b[0m in \u001b[0;36mget_dimensions\u001b[0;34m(img)\u001b[0m\n\u001b[1;32m     29\u001b[0m         \u001b[0mwidth\u001b[0m\u001b[0;34m,\u001b[0m \u001b[0mheight\u001b[0m \u001b[0;34m=\u001b[0m \u001b[0mimg\u001b[0m\u001b[0;34m.\u001b[0m\u001b[0msize\u001b[0m\u001b[0;34m\u001b[0m\u001b[0;34m\u001b[0m\u001b[0m\n\u001b[1;32m     30\u001b[0m         \u001b[0;32mreturn\u001b[0m \u001b[0;34m[\u001b[0m\u001b[0mchannels\u001b[0m\u001b[0;34m,\u001b[0m \u001b[0mheight\u001b[0m\u001b[0;34m,\u001b[0m \u001b[0mwidth\u001b[0m\u001b[0;34m]\u001b[0m\u001b[0;34m\u001b[0m\u001b[0;34m\u001b[0m\u001b[0m\n\u001b[0;32m---> 31\u001b[0;31m     \u001b[0;32mraise\u001b[0m \u001b[0mTypeError\u001b[0m\u001b[0;34m(\u001b[0m\u001b[0;34mf\"Unexpected type {type(img)}\"\u001b[0m\u001b[0;34m)\u001b[0m\u001b[0;34m\u001b[0m\u001b[0;34m\u001b[0m\u001b[0m\n\u001b[0m\u001b[1;32m     32\u001b[0m \u001b[0;34m\u001b[0m\u001b[0m\n\u001b[1;32m     33\u001b[0m \u001b[0;34m\u001b[0m\u001b[0m\n",
            "\u001b[0;31mTypeError\u001b[0m: Unexpected type <class 'int'>"
          ]
        }
      ],
      "source": [
        "# Begin the training\n",
        "trainOurModel(\"firstF102Model-204.pth\")\n",
        "# testClasses()\n"
      ]
    }
  ],
  "nbformat": 4,
  "nbformat_minor": 0,
  "metadata": {
    "language_info": {
      "name": "python"
    },
    "orig_nbformat": 4,
    "colab": {
      "provenance": [],
      "gpuType": "T4",
      "include_colab_link": true
    },
    "kernelspec": {
      "name": "python3",
      "display_name": "Python 3"
    },
    "gpuClass": "standard",
    "accelerator": "GPU"
  }
}