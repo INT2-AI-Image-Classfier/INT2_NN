{
  "cells": [
    {
      "cell_type": "markdown",
      "metadata": {
        "id": "view-in-github",
        "colab_type": "text"
      },
      "source": [
        "<a href=\"https://colab.research.google.com/github/Zaster-TK/INT2_NN/blob/main/Group7F102Classifier.ipynb\" target=\"_parent\"><img src=\"https://colab.research.google.com/assets/colab-badge.svg\" alt=\"Open In Colab\"/></a>"
      ]
    },
    {
      "cell_type": "code",
      "execution_count": 92,
      "metadata": {
        "id": "uoF34amsHiUM"
      },
      "outputs": [],
      "source": [
        "# Very Helpful link\n",
        "# https://pytorch.org/tutorials/beginner/deep_learning_60min_blitz.html\n"
      ]
    },
    {
      "cell_type": "code",
      "execution_count": 91,
      "metadata": {
        "id": "vOFW-V8bHiUS"
      },
      "outputs": [],
      "source": [
        "# Makes File Handling Easier\n",
        "from collections import OrderedDict\n",
        "import math\n",
        "import os\n",
        "import shutil\n",
        "import time\n",
        "\n",
        "# PyTorch model and training necessities\n",
        "import torch\n",
        "import torch.nn as nn\n",
        "import torch.nn.functional as F\n",
        "import torch.optim as optim\n",
        "import torch.utils.data\n",
        "\n",
        "# from torch.utils.data import DataLoader\n",
        "\n",
        "# Image datasets and image manipulation\n",
        "import torchvision\n",
        "from torch.utils.data import Dataset\n",
        "from torchvision import datasets\n",
        "from torchvision.io import read_image\n",
        "import torchvision.transforms as transforms\n",
        "from PIL import Image\n",
        "import pandas as pd\n",
        "\n",
        "# Image display\n",
        "import matplotlib.pyplot as plt\n",
        "import numpy as np\n",
        "\n",
        "# Unpacker for .mat files\n",
        "import scipy.io as scio\n"
      ]
    },
    {
      "cell_type": "code",
      "execution_count": 93,
      "metadata": {
        "id": "RM1PI5TCHiUc"
      },
      "outputs": [],
      "source": [
        "# Hyper Parameters\n",
        "BATCH_SIZE = 16\n",
        "NUM_OF_CLASSES = 102\n",
        "\n",
        "# Optimizing\n",
        "LEARN_RATE = 0.001\n",
        "WEIGHT_DECAY = 0.0001\n",
        "\n",
        "# Training\n",
        "MAX_TRAIN_TIME = 60 * 60 * 6\n",
        "NUM_EPOCHS = 100\n",
        "CHANCES_TO_IMPROVE = 5\n",
        "\n",
        "CHECKPOINT_PERIOD = 100\n",
        "\n",
        "# Transforms\n",
        "RESIZE_SIZE = 128\n",
        "CROP_SIZE = 500\n"
      ]
    },
    {
      "cell_type": "code",
      "execution_count": 94,
      "metadata": {
        "id": "zx60-v7kHiUj"
      },
      "outputs": [],
      "source": [
        "# Create train, valid and test directories to sort dataset into.\n",
        "def makePartitionDirs():\n",
        "    for i in range(1, 103):\n",
        "        os.makedirs(\"data/102flowers/train/\" + str(i), exist_ok=True)\n",
        "        os.makedirs(\"data/102flowers/test/\" + str(i), exist_ok=True)\n",
        "        os.makedirs(\"data/102flowers/valid/\" + str(i), exist_ok=True)"
      ]
    },
    {
      "cell_type": "code",
      "execution_count": 34,
      "metadata": {
        "id": "QdFT0wF_HiUk"
      },
      "outputs": [],
      "source": [
        "# # Now obsolete manual partioner for Flowers102 dataset.\n",
        "# Distribute dataset into train, valid and test directories according to setid.mat specifications.\n",
        "def partitionData(imageLabels, setid, sortedPath, dataPath):\n",
        "    for i in range(len(imageLabels[\"labels\"][0])):\n",
        "        filename = \"image_\" + str(i + 1).zfill(5) + \".jpg\"\n",
        "        if i + 1 in setid[\"trnid\"][0]:\n",
        "            targetFolder = os.path.join(\n",
        "                sortedPath, \"train\", str(imageLabels[\"labels\"][0][i])\n",
        "            )\n",
        "        elif i + 1 in setid[\"valid\"][0]:\n",
        "            targetFolder = os.path.join(\n",
        "                sortedPath, \"valid\", str(imageLabels[\"labels\"][0][i])\n",
        "            )\n",
        "        else:\n",
        "            targetFolder = os.path.join(\n",
        "                sortedPath, \"test\", str(imageLabels[\"labels\"][0][i])\n",
        "            )\n",
        "        shutil.copy(\n",
        "            os.path.join(dataPath, filename), os.path.join(targetFolder, filename)\n",
        "        )"
      ]
    },
    {
      "cell_type": "code",
      "execution_count": 50,
      "metadata": {
        "id": "CNrtqjUjHiUn"
      },
      "outputs": [],
      "source": [
        "# Commonly-used normalisation values across numerous NNs like Resnet18 and ImageNet\n",
        "mean = [0.485, 0.456, 0.406]\n",
        "std = [0.229, 0.224, 0.225]\n",
        "trainTransforms = transforms.Compose(\n",
        "    [\n",
        "        transforms.CenterCrop((CROP_SIZE, CROP_SIZE)),\n",
        "        transforms.Resize((RESIZE_SIZE, RESIZE_SIZE)),\n",
        "        # transforms.RandomRotation([-90, 180]),\n",
        "        transforms.RandomRotation(degrees=90),\n",
        "        transforms.RandomAutocontrast(),\n",
        "        transforms.RandomHorizontalFlip(),\n",
        "        transforms.RandomVerticalFlip(),\n",
        "        transforms.RandomPerspective(distortion_scale=0.2, p=0.5),\n",
        "        transforms.ToTensor(),\n",
        "        transforms.Normalize(mean, std),\n",
        "    ]\n",
        ")\n",
        "testTransforms = validTransforms = transforms.Compose(\n",
        "    [\n",
        "        transforms.Resize((RESIZE_SIZE, RESIZE_SIZE)),\n",
        "        transforms.ToTensor(),\n",
        "        transforms.Normalize(mean, std),\n",
        "    ]\n",
        ")"
      ]
    },
    {
      "cell_type": "code",
      "execution_count": 96,
      "metadata": {
        "id": "Q3AV_-EiHiUp"
      },
      "outputs": [],
      "source": [
        "# This was gathered from the old manual partitioner we constructed- the data loaders \n",
        "# were derrived from datasets.ImageFolder- which had the \"class_to_idx\" attribute.\n",
        "# This attributed mapped all class (flower) names as keys, with their indexes as the values.\n",
        "# The inversion of these key:Value pairs then became the basis for most of the image display\n",
        "# code, as iterating over both the old and new data loaders yielded \"labels\" that are \n",
        "# actually the class indexes- not class names. Hence:\n",
        "horribleClassIndexMap = {'1': 0, '10': 1, '100': 2, '101': 3, '102': 4, '11': 5, '12': 6, '13': 7, '14': 8, '15': 9, '16': 10, '17': 11, '18': 12, '19': 13, '2': 14, '20': 15, '21': 16, '22': 17, '23': 18, '24': 19, '25': 20, '26': 21, '27': 22, '28': 23, '29': 24, '3': 25, '30': 26, '31': 27, '32': 28, '33': 29, '34': 30, '35': 31, '36': 32, '37': 33, '38': 34, '39': 35, '4': 36, '40': 37, '41': 38, '42': 39, '43': 40, '44': 41, '45': 42, '46': 43, '47': 44, '48': 45, '49': 46, '5': 47, '50': 48, '51': 49, '52': 50, '53': 51, '54': 52, '55': 53, '56': 54, '57': 55, '58': 56, '59': 57, '6': 58, '60': 59, '61': 60, '62': 61, '63': 62, '64': 63, '65': 64, '66': 65, '67': 66, '68': 67, '69': 68, '7': 69, '70': 70, '71': 71, '72': 72, '73': 73, '74': 74, '75': 75, '76': 76, '77': 77, '78': 78, '79': 79, '8': 80, '80': 81, '81': 82, '82': 83, '83': 84, '84': 85, '85': 86, '86': 87, '87': 88, '88': 89, '89': 90, '9': 91, '90': 92, '91': 93, '92': 94, '93': 95, '94': 96, '95': 97, '96': 98, '97': 99, '98': 100, '99': 101}\n",
        "lessHorribleClassIndexMap = {v:k for k,v in horribleClassIndexMap.items()}\n",
        "dataPath = \"data/flowers-102\"\n",
        "setid = scio.loadmat(dataPath + f\"/setid.mat\")\n",
        "imageLabels: dict = scio.loadmat(dataPath + f\"/imagelabels.mat\")\n",
        "trainingData = torchvision.datasets.Flowers102(\"data\", \"train\", trainTransforms, download=True)\n",
        "validationData = torchvision.datasets.Flowers102(\"data\", \"val\", validTransforms, download=True)\n",
        "testingData = torchvision.datasets.Flowers102(\"data\", \"test\", testTransforms, download=True)"
      ]
    },
    {
      "cell_type": "code",
      "execution_count": 97,
      "metadata": {
        "id": "2PPSMz3kHiUr"
      },
      "outputs": [],
      "source": [
        "# Data loaders for use as input.\n",
        "trainDataLoader = torch.utils.data.DataLoader(\n",
        "    trainingData, batch_size=BATCH_SIZE, shuffle=True\n",
        ")\n",
        "validDataLoader = torch.utils.data.DataLoader(\n",
        "    validationData, batch_size=BATCH_SIZE, shuffle=False\n",
        ")\n",
        "testDataLoader = torch.utils.data.DataLoader(\n",
        "    testingData, batch_size=BATCH_SIZE, shuffle=False\n",
        ")"
      ]
    },
    {
      "cell_type": "code",
      "execution_count": 98,
      "metadata": {
        "id": "loHY8PFYHiUt"
      },
      "outputs": [],
      "source": [
        "def showImage(image):\n",
        "    npImage = image.numpy() / 3.5 + 0.4 # Mostly undoes normalisation for display purposes \n",
        "    plt.imshow(np.transpose(npImage, (1, 2, 0)))\n",
        "    plt.show()"
      ]
    },
    {
      "cell_type": "code",
      "execution_count": null,
      "metadata": {
        "id": "46umF-yQHiUz"
      },
      "outputs": [],
      "source": [
        "def printSampleImages(dataLoader, classIndexes):\n",
        "    dataIter = iter(trainDataLoader)\n",
        "    images, labels = next(dataIter)\n",
        "    showImage(torchvision.utils.make_grid(images))\n",
        "    print(\" \".join(f\"{labels[j]}\" for j in range(BATCH_SIZE)))\n",
        "printSampleImages(trainDataLoader, trainingData)"
      ]
    },
    {
      "cell_type": "code",
      "execution_count": 12,
      "metadata": {
        "id": "b7YmnR9MHiU1"
      },
      "outputs": [],
      "source": [
        "class ConvNet(nn.Module):\n",
        "    def __init__(self):\n",
        "        super(ConvNet, self).__init__()\n",
        "        self.tensorMulti = 128 * 32**2\n",
        "\n",
        "        self.features = nn.Sequential(\n",
        "            nn.Conv2d(3,32,kernel_size=3,padding=1),\n",
        "            nn.ReLU(),\n",
        "            nn.Conv2d(32,64,kernel_size=3,stride=1,padding=1),\n",
        "            nn.ReLU(),\n",
        "            nn.MaxPool2d(2,2),\n",
        "\n",
        "            nn.Conv2d(64,128,kernel_size=3,stride=1,padding=1),\n",
        "            nn.ReLU(),\n",
        "            nn.Conv2d(128,128,kernel_size=3,stride=1,padding=1),\n",
        "            nn.ReLU(),\n",
        "            nn.MaxPool2d(2,2),\n",
        "\n",
        "            # nn.Conv2d(128,256,kernel_size=3,stride=1,padding=1),\n",
        "            # nn.ReLU(),\n",
        "            # nn.Conv2d(256,256,kernel_size=3,stride=1,padding=1),\n",
        "            # nn.ReLU(),\n",
        "            # # nn.Dropout2d(p=0.5),\n",
        "            # nn.MaxPool2d(2,2)\n",
        "        )\n",
        "\n",
        "        self.classifier = nn.Sequential(\n",
        "            nn.Flatten(),\n",
        "            nn.Linear(self.tensorMulti,1024),\n",
        "            # nn.ReLU(),\n",
        "            # nn.Linear(1024,512),\n",
        "            nn.ReLU(),\n",
        "            nn.Linear(1024,102)\n",
        "        )\n",
        "\n",
        "    def forward(self, input_img):\n",
        "        output = self.features(input_img)\n",
        "        # print(output.shape)\n",
        "        # output = output.view(-1, self.tensorMulti)\n",
        "        # print(output.shape)\n",
        "        output = self.classifier(output)\n",
        "        return output\n",
        "\n",
        "# Instantiate a neural network model\n",
        "model = ConvNet()"
      ]
    },
    {
      "cell_type": "code",
      "execution_count": 13,
      "metadata": {
        "id": "mlSVl8dTHiU2"
      },
      "outputs": [],
      "source": [
        "# Define the loss function with Classification Cross-Entropy loss and an optimizer with SGD optimizer\n",
        "lossFunction  = nn.CrossEntropyLoss()\n",
        "# Optimizer\n",
        "optimizer = torch.optim.SGD(model.parameters(), lr=LEARN_RATE, weight_decay=WEIGHT_DECAY)"
      ]
    },
    {
      "cell_type": "code",
      "execution_count": 14,
      "metadata": {
        "id": "UXHkjh1zHiU2"
      },
      "outputs": [],
      "source": [
        "# Function to save the model\n",
        "def saveModel(path = \"./firstF102Model.pth\"):\n",
        "    torch.save(model.state_dict(), path)\n"
      ]
    },
    {
      "cell_type": "code",
      "execution_count": 15,
      "metadata": {
        "id": "6RmHEzp3HiU3"
      },
      "outputs": [],
      "source": [
        "# Function to test the model with the validation dataset and print the accuracy for the validation images\n",
        "def trainingAccuracy():\n",
        "    model.eval()\n",
        "    accuracy = 0.0\n",
        "    total = 0.0\n",
        "\n",
        "    with torch.no_grad():\n",
        "        for data in trainDataLoader:\n",
        "            images, labels = data\n",
        "            # run the model on the train set to predict labels\n",
        "            outputs = model(images)\n",
        "            # the label with the highest value will be predicted\n",
        "            _, predicted = torch.max(outputs.data, 1)\n",
        "            total += labels.size(0)\n",
        "            accuracy += (predicted == labels).sum().item()\n",
        "\n",
        "    # compute the accuracy over all test images\n",
        "    accuracy = 100 * accuracy / total\n",
        "    return accuracy\n",
        "\n",
        "def validateAccuracy():\n",
        "    model.eval()\n",
        "    accuracy = 0.0\n",
        "    total = 0.0\n",
        "\n",
        "    with torch.no_grad():\n",
        "        for data in validDataLoader:\n",
        "            images, labels = data\n",
        "            # run the model on the test set to predict labels\n",
        "            outputs = model(images)\n",
        "            # the label with the highest value will be predicted\n",
        "            _, predicted = torch.max(outputs.data, 1)\n",
        "            total += labels.size(0)\n",
        "            accuracy += (predicted == labels).sum().item()\n",
        "\n",
        "    # compute the accuracy over all test images\n",
        "    accuracy = 100 * accuracy / total\n",
        "    return accuracy\n"
      ]
    },
    {
      "cell_type": "code",
      "execution_count": 16,
      "metadata": {
        "id": "FJRMfRaGHiU4"
      },
      "outputs": [],
      "source": [
        "def plotAccuracies(trainAccuracies, validAccuracies):\n",
        "    epochs = len(trainAccuracies)\n",
        "    fig, ax1 = plt.subplots()\n",
        "    ax2 = ax1.twinx()\n",
        "    ax1.plot(range(epochs), trainAccuracies, label='Training accuracy')\n",
        "    ax1.plot(range(epochs), validAccuracies, label='Validation accuracy')\n",
        "    ax1.set_title('Training and Validation Accuracies against Loss')\n",
        "    ax1.set_xlabel('Epoch')\n",
        "    ax1.set_ylabel('Accuracy')\n",
        "    ax1.legend()"
      ]
    },
    {
      "cell_type": "code",
      "execution_count": 27,
      "metadata": {
        "id": "0dHlCPtKHiU5"
      },
      "outputs": [],
      "source": [
        "# Training function. We simply have to loop over our data iterator and feed the inputs to the network and optimize.\n",
        "def train(save_model_path, bestAccuracy = 0.0):\n",
        "    startTime = time.time()\n",
        "    lastCheckpointTime = startTime\n",
        "    trainAccuracies = []\n",
        "    validAccuracies = []\n",
        "    # Define your execution device\n",
        "    device = torch.device(\"cuda:0\" if torch.cuda.is_available() else \"cpu\")\n",
        "    print(\"The model will be running on\", device, \"device\")\n",
        "    # Convert model parameters and buffers to CPU or Cuda\n",
        "    model.to(device) # Regretfully AMD GPUs are unsupported for PyTorch models.\n",
        "\n",
        "    runningAccuracy = 0.0\n",
        "    fails_to_imprv = 0\n",
        "\n",
        "    for epoch in range(NUM_EPOCHS):  # loop over the dataset multiple times\n",
        "        # Evaluation and Training of the Dataset\n",
        "        model.train()\n",
        "        runningLoss = 0.0\n",
        "\n",
        "        print(\"\\n##############################\")\n",
        "        for i, (images, labels) in enumerate(trainDataLoader):\n",
        "            # Get the inputs\n",
        "            images = torch.autograd.Variable(images.to(device))\n",
        "            labels = torch.autograd.Variable(labels.to(device))\n",
        "            # Zero the parameter gradients\n",
        "            optimizer.zero_grad()\n",
        "            # Predict classes using images from the training set\n",
        "            outputs = model(images)\n",
        "            # Compute the loss based on model output and real labels\n",
        "            loss = lossFunction(outputs, labels)\n",
        "            # Back-propagate the loss\n",
        "            loss.backward()\n",
        "            # adjust parameters based on the calculated gradients\n",
        "            optimizer.step()\n",
        "            runningLoss += loss.item()  # extract the loss value\n",
        "            if i % BATCH_SIZE == BATCH_SIZE - 1:\n",
        "                # print twice per epoch\n",
        "                print(\"[%d, %5d] loss: %.3f\" % (epoch + 1, i + 1, runningLoss / BATCH_SIZE))\n",
        "                # zero the loss\n",
        "                runningLoss = 0.0\n",
        "\n",
        "        # Compute and print the average accuracy fo this epoch when tested over all validation images\n",
        "        trainAccuracy = trainingAccuracy()\n",
        "        trainAccuracies.append(trainAccuracy)\n",
        "        validAccuracy = validateAccuracy()\n",
        "        validAccuracies.append(validAccuracy)\n",
        "        plotAccuracies(trainAccuracies, validAccuracies)\n",
        "        print(\n",
        "            \"For epoch\",\n",
        "            epoch + 1,\n",
        "            \"the training accuracy over the whole training set is %.2f %%\" % (trainAccuracy),\n",
        "            \"\\nthe validation accuracy over the whole validation set is %.2f %%\" % (validAccuracy),\n",
        "        )\n",
        "        elapsedTime = time.time() - lastCheckpointTime\n",
        "        if elapsedTime >= CHECKPOINT_PERIOD and validAccuracy > bestAccuracy:\n",
        "            saveModel(save_model_path)\n",
        "            lastCheckpointTime = time.time()\n",
        "\n",
        "        # Check if the maximum training time has elapsed\n",
        "        elapsedTime  = time.time() - startTime\n",
        "        if elapsedTime  >= MAX_TRAIN_TIME:\n",
        "            if validAccuracy > bestAccuracy:\n",
        "                saveModel(save_model_path)\n",
        "            break\n",
        "\n",
        "        if validAccuracy > runningAccuracy:\n",
        "            print(\"Improvement made: %.2f%% better.\" % (validAccuracy - runningAccuracy))\n",
        "            runningAccuracy = validAccuracy\n",
        "            fails_to_imprv = 0\n",
        "        else:\n",
        "            fails_to_imprv += 1\n",
        "            print(\"Failed to improve: %d, %.2f%% worse.\" % (fails_to_imprv, (runningAccuracy - validAccuracy)))\n",
        "            if fails_to_imprv >= CHANCES_TO_IMPROVE:\n",
        "              print(\"Failed to improve %d consecutive times.\" % fails_to_imprv)\n",
        "              break\n",
        "\n",
        "        # Check if the maximum training time has elapsed\n",
        "        elapsedTime  = time.time() - startTime\n",
        "        if (elapsedTime  >= MAX_TRAIN_TIME and validAccuracy > bestAccuracy) or (fails_to_imprv > CHANCES_TO_IMPROVE):\n",
        "            saveModel(save_model_path)\n",
        "            break\n",
        "\n",
        "        # we want to save the model if the accuracy is the best\n",
        "        if validAccuracy > bestAccuracy:\n",
        "            saveModel(save_model_path)\n",
        "            bestAccuracy = validAccuracy\n",
        " "
      ]
    },
    {
      "cell_type": "code",
      "execution_count": 18,
      "metadata": {
        "id": "bHaEf8NkHiU7"
      },
      "outputs": [],
      "source": [
        "# Function to test the model with a batch of images and show the labels predictions\n",
        "def testBatch():\n",
        "    # get batch of images from the test DataLoader\n",
        "    dataIter = iter(testDataLoader)\n",
        "    images, labels = next(dataIter)\n",
        "    showImage(torchvision.utils.make_grid(images))\n",
        "    print(\n",
        "        \"Real classes: \",\n",
        "        \" \".join(f\"{labels[j]}\" for j in range(BATCH_SIZE)),\n",
        "    )\n",
        "    # Let's see what if the model identifiers the  labels of those example\n",
        "    outputs = model(images)\n",
        "\n",
        "    # get probabilities for all 102 labels. The highest (max) probability should align with correct label\n",
        "    _, predicted = torch.max(outputs, 1)\n",
        "\n",
        "    # show the predicted labels on the screen with the real ones for comparison\n",
        "    print(\n",
        "        \"Predicted: \",\n",
        "        \" \".join(f\"{predicted[j]}\" for j in range(BATCH_SIZE)),\n",
        "    )"
      ]
    },
    {
      "cell_type": "code",
      "execution_count": 19,
      "metadata": {
        "id": "akTzVmVEHiU8"
      },
      "outputs": [],
      "source": [
        "# Function to validate the model with a batch of images from the validation set.\n",
        "def validBatch():\n",
        "    model.eval()\n",
        "    dataIter = iter(validDataLoader)\n",
        "    images, labels = next(dataIter)\n",
        "    showImage(torchvision.utils.make_grid(images))\n",
        "    print(\n",
        "        \"Real classes: \",\n",
        "        \" \".join(f\"{labels[j]}\" for j in range(BATCH_SIZE)),\n",
        "    )\n",
        "    outputs = model(images)\n",
        "    _, predicted = torch.max(outputs, 1)\n",
        "    print(\n",
        "        \"Predicted: \",\n",
        "        \" \".join(f\"{predicted[j]}\" for j in range(BATCH_SIZE)),\n",
        "    )\n"
      ]
    },
    {
      "cell_type": "code",
      "execution_count": 20,
      "metadata": {
        "id": "E0K1iHvLHiU9"
      },
      "outputs": [],
      "source": [
        "def trainOurModel(save_model_path = \"firstF102Model.pth\"):\n",
        "    # best_accurracy = 0.0\n",
        "    # if os.path.isfile(model_path):\n",
        "    #     best_model = ConvNet()\n",
        "    #     # best_optimizer = torch.optim.SGD(best_model.parameters(), lr=LEARN_RATE, weight_decay=WEIGHT_DECAY)\n",
        "    #     best_model.load_state_dict(torch.load(model_path))\n",
        "    #     best_accurracy = validateAccuracy(best_model)\n",
        "\n",
        "    # Let's build our model\n",
        "    train(save_model_path, 0.0)\n",
        "    print(\"Finished Training\")\n",
        "\n",
        "    # Test which classes performed well\n",
        "    validateAccuracy()\n",
        "\n",
        "    # Let's load the model we just created and test the accuracy per label\n",
        "    # Optimizer\n",
        "    model.load_state_dict(torch.load(save_model_path))\n",
        "\n",
        "    # Test with batch of images\n",
        "    validBatch()"
      ]
    },
    {
      "cell_type": "code",
      "execution_count": 21,
      "metadata": {
        "id": "Nwcvae_bHiU-"
      },
      "outputs": [],
      "source": [
        "# Function to test what classes performed well\n",
        "def testClasses(model):\n",
        "    model.eval()\n",
        "    class_correct = list(0.0 for i in range(NUM_OF_CLASSES))\n",
        "    class_total = list(0.0 for i in range(NUM_OF_CLASSES))\n",
        "    with torch.no_grad():\n",
        "        for data in testDataLoader:\n",
        "            images, labels = data\n",
        "            outputs = model(images)\n",
        "            _, predicted = torch.max(outputs, 1)\n",
        "            c = (predicted == labels).squeeze()\n",
        "            for i in range(BATCH_SIZE):\n",
        "                label = labels[i]\n",
        "                class_correct[label] += c[i].item()\n",
        "                class_total[label] += 1\n",
        "\n",
        "    for i in range(NUM_OF_CLASSES):\n",
        "        print(\n",
        "            \"Accuracy of %5s : %2d %%\"\n",
        "            % (i, 100 * class_correct[i] / class_total[i])\n",
        "        )\n"
      ]
    },
    {
      "cell_type": "code",
      "execution_count": null,
      "metadata": {
        "id": "xpANBha2HiU_"
      },
      "outputs": [],
      "source": [
        "# Begin the training\n",
        "trainOurModel(\"firstF102Model.pth\")\n",
        "# testClasses()\n"
      ]
    }
  ],
  "nbformat": 4,
  "nbformat_minor": 0,
  "metadata": {
    "language_info": {
      "name": "python"
    },
    "orig_nbformat": 4,
    "colab": {
      "provenance": [],
      "gpuType": "T4",
      "toc_visible": true,
      "include_colab_link": true
    },
    "kernelspec": {
      "name": "python3",
      "display_name": "Python 3"
    },
    "gpuClass": "standard",
    "accelerator": "GPU"
  }
}