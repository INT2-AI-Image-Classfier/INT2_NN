{
 "cells": [
  {
   "cell_type": "code",
   "execution_count": null,
   "metadata": {},
   "outputs": [],
   "source": [
    "import matplotlib.pyplot as plt\n",
    "import torch\n",
    "import numpy as np\n",
    "from torchvision import datasets, transforms\n",
    "import torch.nn.functional as F\n",
    "import torch.utils.data\n",
    "from collections import OrderedDict\n",
    "from PIL import Image\n",
    "import scipy.io as scio\n",
    "import os\n",
    "import shutil"
   ]
  },
  {
   "cell_type": "code",
   "execution_count": null,
   "metadata": {},
   "outputs": [],
   "source": [
    "# Create train, valid and test directories to sort dataset into.\n",
    "def makePartitionDirs():\n",
    "    for i in range(1, 103):\n",
    "        os.makedirs(\"data/102flowers/train/\" + str(i), exist_ok=True)\n",
    "        os.makedirs(\"data/102flowers/test/\" + str(i), exist_ok=True)\n",
    "        os.makedirs(\"data/102flowers/valid/\" + str(i), exist_ok=True)\n",
    "\n",
    "\n",
    "# Distribute dataset into train, valid and test directories according to setid.mat specifications.\n",
    "def partitionData(imageLabels, setid, sortedPath, dataPath):\n",
    "    for i in range(len(imageLabels[\"labels\"][0])):\n",
    "        filename = \"image_\" + str(i + 1).zfill(5) + \".jpg\"\n",
    "        if i + 1 in setid[\"trnid\"][0]:\n",
    "            targetFolder = os.path.join(\n",
    "                sortedPath, \"train\", str(imageLabels[\"labels\"][0][i])\n",
    "            )\n",
    "        elif i + 1 in setid[\"valid\"][0]:\n",
    "            targetFolder = os.path.join(\n",
    "                sortedPath, \"valid\", str(imageLabels[\"labels\"][0][i])\n",
    "            )\n",
    "        else:\n",
    "            targetFolder = os.path.join(\n",
    "                sortedPath, \"test\", str(imageLabels[\"labels\"][0][i])\n",
    "            )\n",
    "        shutil.copy(\n",
    "            os.path.join(dataPath, filename), os.path.join(targetFolder, filename)\n",
    "        )"
   ]
  },
  {
   "cell_type": "code",
   "execution_count": null,
   "metadata": {},
   "outputs": [],
   "source": [
    "trainTransforms = transforms.Compose(\n",
    "    [\n",
    "        transforms.Resize(160),\n",
    "        transforms.RandomResizedCrop(128),\n",
    "        transforms.RandomHorizontalFlip(),\n",
    "        transforms.RandomVerticalFlip(),\n",
    "        transforms.RandomRotation(90),\n",
    "        transforms.ToTensor(),\n",
    "        transforms.Normalize([0.485, 0.456, 0.406], [0.229, 0.224, 0.225]),\n",
    "    ]\n",
    ")\n",
    "testTransforms = validTransforms = transforms.Compose(\n",
    "    [\n",
    "        transforms.Resize(160),\n",
    "        transforms.ToTensor(),\n",
    "        transforms.Normalize([0.485, 0.456, 0.406], [0.229, 0.224, 0.225]),\n",
    "    ]\n",
    ")"
   ]
  },
  {
   "cell_type": "code",
   "execution_count": null,
   "metadata": {},
   "outputs": [],
   "source": [
    "dataPath = \"data/102flowers/jpg\"\n",
    "sortedPath = \"data/102flowers\"\n",
    "setid = scio.loadmat(f\"data/setid.mat\")\n",
    "imageLabels = scio.loadmat(f\"data/imagelabels.mat\")\n",
    "# Call these if you don't have the directories set up as needed.\n",
    "makePartitionDirs()\n",
    "partitionData(imageLabels, setid, sortedPath, dataPath)\n",
    "trainingData = datasets.ImageFolder(\n",
    "    root=\"data/102flowers/train\", transform=trainTransforms\n",
    ")\n",
    "validationData = datasets.ImageFolder(\n",
    "    root=\"data/102flowers/valid\", transform=validTransforms\n",
    ")\n",
    "testingData = datasets.ImageFolder(\n",
    "    root=\"data/102flowers/test\", transform=testTransforms\n",
    ")"
   ]
  },
  {
   "cell_type": "code",
   "execution_count": null,
   "metadata": {},
   "outputs": [],
   "source": [
    "# Data loaders for use as input.\n",
    "trainDataLoader = torch.utils.data.DataLoader(trainingData, batch_size=16, shuffle=True)\n",
    "validDataLoader = torch.utils.data.DataLoader(\n",
    "    validationData, batch_size=16, shuffle=False\n",
    ")\n",
    "testDataLoader = torch.utils.data.DataLoader(testingData, batch_size=16, shuffle=False)"
   ]
  },
  {
   "cell_type": "code",
   "execution_count": null,
   "metadata": {},
   "outputs": [],
   "source": []
  },
  {
   "cell_type": "code",
   "execution_count": null,
   "metadata": {},
   "outputs": [],
   "source": []
  },
  {
   "cell_type": "code",
   "execution_count": null,
   "metadata": {},
   "outputs": [],
   "source": []
  },
  {
   "cell_type": "code",
   "execution_count": null,
   "metadata": {},
   "outputs": [],
   "source": []
  }
 ],
 "metadata": {
  "language_info": {
   "name": "python"
  },
  "orig_nbformat": 4
 },
 "nbformat": 4,
 "nbformat_minor": 2
}
